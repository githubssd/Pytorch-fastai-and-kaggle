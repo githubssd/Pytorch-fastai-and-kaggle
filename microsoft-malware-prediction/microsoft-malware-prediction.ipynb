 {
      "metadata": {
        "_uuid": "b50f435d3e5021d86747e803fbba68a29eff8b03"
      },
      "cell_type": "markdown",
      "source": "The Competition is still going on, that is why I haven't share the full code. "
    }
{
  "cells": [
    {
      "metadata": {
        "trusted": true,
        "_uuid": "a58b737edff3bd1b1c4c49ecc39123e841797510"
      },
      "cell_type": "code",
      "source": "#install fastai 0.7.0\n!pip install fastai==0.7.0 --no-deps",
      "execution_count": 1,
      "outputs": [
        {
          "output_type": "stream",
          "text": "Collecting fastai==0.7.0\n\u001b[?25l  Downloading https://files.pythonhosted.org/packages/50/6d/9d0d6e17a78b0598d5e8c49a0d03ffc7ff265ae62eca3e2345fab14edb9b/fastai-0.7.0-py3-none-any.whl (112kB)\n\u001b[K    100% |████████████████████████████████| 122kB 2.4MB/s ta 0:00:01\n\u001b[?25hInstalling collected packages: fastai\n  Found existing installation: fastai 1.0.39\n    Uninstalling fastai-1.0.39:\n      Successfully uninstalled fastai-1.0.39\nSuccessfully installed fastai-0.7.0\n\u001b[33mYou are using pip version 18.1, however version 19.0.1 is available.\nYou should consider upgrading via the 'pip install --upgrade pip' command.\u001b[0m\n",
          "name": "stdout"
        }
      ]
    },
    {
      "metadata": {
        "_uuid": "8f2839f25d086af736a60e9eeb907d3b93b6e0e5",
        "_cell_guid": "b1076dfc-b9ad-4769-8c92-a6c4dae69d19",
        "trusted": true
      },
      "cell_type": "code",
      "source": "#importing necessary packages\nfrom fastai.structured import *\nimport lightgbm\nimport os\nprint(os.listdir(\"../input\"))",
      "execution_count": 2,
      "outputs": [
        {
          "output_type": "stream",
          "text": "['train.csv', 'sample_submission.csv', 'test.csv']\n",
          "name": "stdout"
        }
      ]
    },
    {
      "metadata": {
        "trusted": true,
        "_uuid": "10fc0f1e3412e00890299f7ed8d7555b4050c133"
      },
      "cell_type": "code",
      "source": "#jjust to speed thing a little\ndtypes = {\n        'MachineIdentifier':                                    'category',\n        'ProductName':                                          'category',\n        'EngineVersion':                                        'category',\n        'AppVersion':                                           'category',\n        'AvSigVersion':                                         'category',\n        'IsBeta':                                               'int8',\n        'RtpStateBitfield':                                     'float16',\n        'IsSxsPassiveMode':                                     'int8',\n        'DefaultBrowsersIdentifier':                            'float16',\n        'AVProductStatesIdentifier':                            'float32',\n        'AVProductsInstalled':                                  'float16',\n        'AVProductsEnabled':                                    'float16',\n        'HasTpm':                                               'int8',\n        'CountryIdentifier':                                    'int16',\n        'CityIdentifier':                                       'float32',\n        'OrganizationIdentifier':                               'float16',\n        'GeoNameIdentifier':                                    'float16',\n        'LocaleEnglishNameIdentifier':                          'int8',\n        'Platform':                                             'category',\n        'Processor':                                            'category',\n        'OsVer':                                                'category',\n        'OsBuild':                                              'int16',\n        'OsSuite':                                              'int16',\n        'OsPlatformSubRelease':                                 'category',\n        'OsBuildLab':                                           'category',\n        'SkuEdition':                                           'category',\n        'IsProtected':                                          'float16',\n        'AutoSampleOptIn':                                      'int8',\n        'PuaMode':                                              'category',\n        'SMode':                                                'float16',\n        'IeVerIdentifier':                                      'float16',\n        'SmartScreen':                                          'category',\n        'Firewall':                                             'float16',\n        'UacLuaenable':                                         'float32',\n        'Census_MDC2FormFactor':                                'category',\n        'Census_DeviceFamily':                                  'category',\n        'Census_OEMNameIdentifier':                             'float16',\n        'Census_OEMModelIdentifier':                            'float32',\n        'Census_ProcessorCoreCount':                            'float16',\n        'Census_ProcessorManufacturerIdentifier':               'float16',\n        'Census_ProcessorModelIdentifier':                      'float16',\n        'Census_ProcessorClass':                                'category',\n        'Census_PrimaryDiskTotalCapacity':                      'float32',\n        'Census_PrimaryDiskTypeName':                           'category',\n        'Census_SystemVolumeTotalCapacity':                     'float32',\n        'Census_HasOpticalDiskDrive':                           'int8',\n        'Census_TotalPhysicalRAM':                              'float32',\n        'Census_ChassisTypeName':                               'category',\n        'Census_InternalPrimaryDiagonalDisplaySizeInInches':    'float16',\n        'Census_InternalPrimaryDisplayResolutionHorizontal':    'float16',\n        'Census_InternalPrimaryDisplayResolutionVertical':      'float16',\n        'Census_PowerPlatformRoleName':                         'category',\n        'Census_InternalBatteryType':                           'category',\n        'Census_InternalBatteryNumberOfCharges':                'float32',\n        'Census_OSVersion':                                     'category',\n        'Census_OSArchitecture':                                'category',\n        'Census_OSBranch':                                      'category',\n        'Census_OSBuildNumber':                                 'int16',\n        'Census_OSBuildRevision':                               'int32',\n        'Census_OSEdition':                                     'category',\n        'Census_OSSkuName':                                     'category',\n        'Census_OSInstallTypeName':                             'category',\n        'Census_OSInstallLanguageIdentifier':                   'float16',\n        'Census_OSUILocaleIdentifier':                          'int16',\n        'Census_OSWUAutoUpdateOptionsName':                     'category',\n        'Census_IsPortableOperatingSystem':                     'int8',\n        'Census_GenuineStateName':                              'category',\n        'Census_ActivationChannel':                             'category',\n        'Census_IsFlightingInternal':                           'float16',\n        'Census_IsFlightsDisabled':                             'float16',\n        'Census_FlightRing':                                    'category',\n        'Census_ThresholdOptIn':                                'float16',\n        'Census_FirmwareManufacturerIdentifier':                'float16',\n        'Census_FirmwareVersionIdentifier':                     'float32',\n        'Census_IsSecureBootEnabled':                           'int8',\n        'Census_IsWIMBootEnabled':                              'float16',\n        'Census_IsVirtualDevice':                               'float16',\n        'Census_IsTouchEnabled':                                'int8',\n        'Census_IsPenCapable':                                  'int8',\n        'Census_IsAlwaysOnAlwaysConnectedCapable':              'float16',\n        'Wdft_IsGamer':                                         'float16',\n        'Wdft_RegionIdentifier':                                'float16',\n        'HasDetections':                                        'int8'\n        }",
      "execution_count": 3,
      "outputs": []
    },
    {
      "metadata": {
        "trusted": true,
        "_uuid": "e8ed5228dbb09c6b9b269a152c8002dc500abf84"
      },
      "cell_type": "code",
      "source": "#loading only 2 million samples for experimentation\ndf_raw = pd.read_csv('../input/train.csv', nrows= 2000000, dtype=dtypes); df_raw.head()",
      "execution_count": 4,
      "outputs": [
        {
          "output_type": "execute_result",
          "execution_count": 4,
          "data": {
            "text/plain": "                  MachineIdentifier      ...      HasDetections\n0  0000028988387b115f69f31a3bf04f09      ...                  0\n1  000007535c3f730efa9ea0b7ef1bd645      ...                  0\n2  000007905a28d863f6d0d597892cd692      ...                  0\n3  00000b11598a75ea8ba1beea8459149f      ...                  1\n4  000014a5f00daa18e76b81417eeb99fc      ...                  1\n\n[5 rows x 83 columns]",
            "text/html": "<div>\n<style scoped>\n    .dataframe tbody tr th:only-of-type {\n        vertical-align: middle;\n    }\n\n    .dataframe tbody tr th {\n        vertical-align: top;\n    }\n\n    .dataframe thead th {\n        text-align: right;\n    }\n</style>\n<table border=\"1\" class=\"dataframe\">\n  <thead>\n    <tr style=\"text-align: right;\">\n      <th></th>\n      <th>MachineIdentifier</th>\n      <th>ProductName</th>\n      <th>EngineVersion</th>\n      <th>AppVersion</th>\n      <th>AvSigVersion</th>\n      <th>IsBeta</th>\n      <th>RtpStateBitfield</th>\n      <th>IsSxsPassiveMode</th>\n      <th>DefaultBrowsersIdentifier</th>\n      <th>AVProductStatesIdentifier</th>\n      <th>AVProductsInstalled</th>\n      <th>AVProductsEnabled</th>\n      <th>HasTpm</th>\n      <th>CountryIdentifier</th>\n      <th>CityIdentifier</th>\n      <th>OrganizationIdentifier</th>\n      <th>GeoNameIdentifier</th>\n      <th>LocaleEnglishNameIdentifier</th>\n      <th>Platform</th>\n      <th>Processor</th>\n      <th>OsVer</th>\n      <th>OsBuild</th>\n      <th>OsSuite</th>\n      <th>OsPlatformSubRelease</th>\n      <th>OsBuildLab</th>\n      <th>SkuEdition</th>\n      <th>IsProtected</th>\n      <th>AutoSampleOptIn</th>\n      <th>PuaMode</th>\n      <th>SMode</th>\n      <th>IeVerIdentifier</th>\n      <th>SmartScreen</th>\n      <th>Firewall</th>\n      <th>UacLuaenable</th>\n      <th>Census_MDC2FormFactor</th>\n      <th>Census_DeviceFamily</th>\n      <th>Census_OEMNameIdentifier</th>\n      <th>Census_OEMModelIdentifier</th>\n      <th>Census_ProcessorCoreCount</th>\n      <th>Census_ProcessorManufacturerIdentifier</th>\n      <th>...</th>\n      <th>Census_PrimaryDiskTypeName</th>\n      <th>Census_SystemVolumeTotalCapacity</th>\n      <th>Census_HasOpticalDiskDrive</th>\n      <th>Census_TotalPhysicalRAM</th>\n      <th>Census_ChassisTypeName</th>\n      <th>Census_InternalPrimaryDiagonalDisplaySizeInInches</th>\n      <th>Census_InternalPrimaryDisplayResolutionHorizontal</th>\n      <th>Census_InternalPrimaryDisplayResolutionVertical</th>\n      <th>Census_PowerPlatformRoleName</th>\n      <th>Census_InternalBatteryType</th>\n      <th>Census_InternalBatteryNumberOfCharges</th>\n      <th>Census_OSVersion</th>\n      <th>Census_OSArchitecture</th>\n      <th>Census_OSBranch</th>\n      <th>Census_OSBuildNumber</th>\n      <th>Census_OSBuildRevision</th>\n      <th>Census_OSEdition</th>\n      <th>Census_OSSkuName</th>\n      <th>Census_OSInstallTypeName</th>\n      <th>Census_OSInstallLanguageIdentifier</th>\n      <th>Census_OSUILocaleIdentifier</th>\n      <th>Census_OSWUAutoUpdateOptionsName</th>\n      <th>Census_IsPortableOperatingSystem</th>\n      <th>Census_GenuineStateName</th>\n      <th>Census_ActivationChannel</th>\n      <th>Census_IsFlightingInternal</th>\n      <th>Census_IsFlightsDisabled</th>\n      <th>Census_FlightRing</th>\n      <th>Census_ThresholdOptIn</th>\n      <th>Census_FirmwareManufacturerIdentifier</th>\n      <th>Census_FirmwareVersionIdentifier</th>\n      <th>Census_IsSecureBootEnabled</th>\n      <th>Census_IsWIMBootEnabled</th>\n      <th>Census_IsVirtualDevice</th>\n      <th>Census_IsTouchEnabled</th>\n      <th>Census_IsPenCapable</th>\n      <th>Census_IsAlwaysOnAlwaysConnectedCapable</th>\n      <th>Wdft_IsGamer</th>\n      <th>Wdft_RegionIdentifier</th>\n      <th>HasDetections</th>\n    </tr>\n  </thead>\n  <tbody>\n    <tr>\n      <th>0</th>\n      <td>0000028988387b115f69f31a3bf04f09</td>\n      <td>win8defender</td>\n      <td>1.1.15100.1</td>\n      <td>4.18.1807.18075</td>\n      <td>1.273.1735.0</td>\n      <td>0</td>\n      <td>7.0</td>\n      <td>0</td>\n      <td>NaN</td>\n      <td>53447.0</td>\n      <td>1.0</td>\n      <td>1.0</td>\n      <td>1</td>\n      <td>29</td>\n      <td>128035.0</td>\n      <td>18.0</td>\n      <td>35.0</td>\n      <td>-85</td>\n      <td>windows10</td>\n      <td>x64</td>\n      <td>10.0.0.0</td>\n      <td>17134</td>\n      <td>256</td>\n      <td>rs4</td>\n      <td>17134.1.amd64fre.rs4_release.180410-1804</td>\n      <td>Pro</td>\n      <td>1.0</td>\n      <td>0</td>\n      <td>NaN</td>\n      <td>0.0</td>\n      <td>137.0</td>\n      <td>NaN</td>\n      <td>1.0</td>\n      <td>1.0</td>\n      <td>Desktop</td>\n      <td>Windows.Desktop</td>\n      <td>2668.0</td>\n      <td>9124.0</td>\n      <td>4.0</td>\n      <td>5.0</td>\n      <td>...</td>\n      <td>HDD</td>\n      <td>299451.0</td>\n      <td>0</td>\n      <td>4096.0</td>\n      <td>Desktop</td>\n      <td>18.906250</td>\n      <td>1440.0</td>\n      <td>900.0</td>\n      <td>Desktop</td>\n      <td>NaN</td>\n      <td>4.294967e+09</td>\n      <td>10.0.17134.165</td>\n      <td>amd64</td>\n      <td>rs4_release</td>\n      <td>17134</td>\n      <td>165</td>\n      <td>Professional</td>\n      <td>PROFESSIONAL</td>\n      <td>UUPUpgrade</td>\n      <td>26.0</td>\n      <td>119</td>\n      <td>UNKNOWN</td>\n      <td>0</td>\n      <td>IS_GENUINE</td>\n      <td>Retail</td>\n      <td>NaN</td>\n      <td>0.0</td>\n      <td>Retail</td>\n      <td>NaN</td>\n      <td>628.0</td>\n      <td>36144.0</td>\n      <td>0</td>\n      <td>NaN</td>\n      <td>0.0</td>\n      <td>0</td>\n      <td>0</td>\n      <td>0.0</td>\n      <td>0.0</td>\n      <td>10.0</td>\n      <td>0</td>\n    </tr>\n    <tr>\n      <th>1</th>\n      <td>000007535c3f730efa9ea0b7ef1bd645</td>\n      <td>win8defender</td>\n      <td>1.1.14600.4</td>\n      <td>4.13.17134.1</td>\n      <td>1.263.48.0</td>\n      <td>0</td>\n      <td>7.0</td>\n      <td>0</td>\n      <td>NaN</td>\n      <td>53447.0</td>\n      <td>1.0</td>\n      <td>1.0</td>\n      <td>1</td>\n      <td>93</td>\n      <td>1482.0</td>\n      <td>18.0</td>\n      <td>119.0</td>\n      <td>64</td>\n      <td>windows10</td>\n      <td>x64</td>\n      <td>10.0.0.0</td>\n      <td>17134</td>\n      <td>256</td>\n      <td>rs4</td>\n      <td>17134.1.amd64fre.rs4_release.180410-1804</td>\n      <td>Pro</td>\n      <td>1.0</td>\n      <td>0</td>\n      <td>NaN</td>\n      <td>0.0</td>\n      <td>137.0</td>\n      <td>NaN</td>\n      <td>1.0</td>\n      <td>1.0</td>\n      <td>Notebook</td>\n      <td>Windows.Desktop</td>\n      <td>2668.0</td>\n      <td>91656.0</td>\n      <td>4.0</td>\n      <td>5.0</td>\n      <td>...</td>\n      <td>HDD</td>\n      <td>102385.0</td>\n      <td>0</td>\n      <td>4096.0</td>\n      <td>Notebook</td>\n      <td>13.898438</td>\n      <td>1366.0</td>\n      <td>768.0</td>\n      <td>Mobile</td>\n      <td>NaN</td>\n      <td>1.000000e+00</td>\n      <td>10.0.17134.1</td>\n      <td>amd64</td>\n      <td>rs4_release</td>\n      <td>17134</td>\n      <td>1</td>\n      <td>Professional</td>\n      <td>PROFESSIONAL</td>\n      <td>IBSClean</td>\n      <td>8.0</td>\n      <td>31</td>\n      <td>UNKNOWN</td>\n      <td>0</td>\n      <td>OFFLINE</td>\n      <td>Retail</td>\n      <td>NaN</td>\n      <td>0.0</td>\n      <td>NOT_SET</td>\n      <td>NaN</td>\n      <td>628.0</td>\n      <td>57858.0</td>\n      <td>0</td>\n      <td>NaN</td>\n      <td>0.0</td>\n      <td>0</td>\n      <td>0</td>\n      <td>0.0</td>\n      <td>0.0</td>\n      <td>8.0</td>\n      <td>0</td>\n    </tr>\n    <tr>\n      <th>2</th>\n      <td>000007905a28d863f6d0d597892cd692</td>\n      <td>win8defender</td>\n      <td>1.1.15100.1</td>\n      <td>4.18.1807.18075</td>\n      <td>1.273.1341.0</td>\n      <td>0</td>\n      <td>7.0</td>\n      <td>0</td>\n      <td>NaN</td>\n      <td>53447.0</td>\n      <td>1.0</td>\n      <td>1.0</td>\n      <td>1</td>\n      <td>86</td>\n      <td>153579.0</td>\n      <td>18.0</td>\n      <td>64.0</td>\n      <td>49</td>\n      <td>windows10</td>\n      <td>x64</td>\n      <td>10.0.0.0</td>\n      <td>17134</td>\n      <td>768</td>\n      <td>rs4</td>\n      <td>17134.1.amd64fre.rs4_release.180410-1804</td>\n      <td>Home</td>\n      <td>1.0</td>\n      <td>0</td>\n      <td>NaN</td>\n      <td>0.0</td>\n      <td>137.0</td>\n      <td>RequireAdmin</td>\n      <td>1.0</td>\n      <td>1.0</td>\n      <td>Desktop</td>\n      <td>Windows.Desktop</td>\n      <td>4908.0</td>\n      <td>317701.0</td>\n      <td>4.0</td>\n      <td>5.0</td>\n      <td>...</td>\n      <td>SSD</td>\n      <td>113907.0</td>\n      <td>0</td>\n      <td>4096.0</td>\n      <td>Desktop</td>\n      <td>21.500000</td>\n      <td>1920.0</td>\n      <td>1080.0</td>\n      <td>Desktop</td>\n      <td>NaN</td>\n      <td>4.294967e+09</td>\n      <td>10.0.17134.165</td>\n      <td>amd64</td>\n      <td>rs4_release</td>\n      <td>17134</td>\n      <td>165</td>\n      <td>Core</td>\n      <td>CORE</td>\n      <td>UUPUpgrade</td>\n      <td>7.0</td>\n      <td>30</td>\n      <td>FullAuto</td>\n      <td>0</td>\n      <td>IS_GENUINE</td>\n      <td>OEM:NONSLP</td>\n      <td>NaN</td>\n      <td>0.0</td>\n      <td>Retail</td>\n      <td>NaN</td>\n      <td>142.0</td>\n      <td>52682.0</td>\n      <td>0</td>\n      <td>NaN</td>\n      <td>0.0</td>\n      <td>0</td>\n      <td>0</td>\n      <td>0.0</td>\n      <td>0.0</td>\n      <td>3.0</td>\n      <td>0</td>\n    </tr>\n    <tr>\n      <th>3</th>\n      <td>00000b11598a75ea8ba1beea8459149f</td>\n      <td>win8defender</td>\n      <td>1.1.15100.1</td>\n      <td>4.18.1807.18075</td>\n      <td>1.273.1527.0</td>\n      <td>0</td>\n      <td>7.0</td>\n      <td>0</td>\n      <td>NaN</td>\n      <td>53447.0</td>\n      <td>1.0</td>\n      <td>1.0</td>\n      <td>1</td>\n      <td>88</td>\n      <td>20710.0</td>\n      <td>NaN</td>\n      <td>117.0</td>\n      <td>115</td>\n      <td>windows10</td>\n      <td>x64</td>\n      <td>10.0.0.0</td>\n      <td>17134</td>\n      <td>256</td>\n      <td>rs4</td>\n      <td>17134.1.amd64fre.rs4_release.180410-1804</td>\n      <td>Pro</td>\n      <td>1.0</td>\n      <td>0</td>\n      <td>NaN</td>\n      <td>0.0</td>\n      <td>137.0</td>\n      <td>ExistsNotSet</td>\n      <td>1.0</td>\n      <td>1.0</td>\n      <td>Desktop</td>\n      <td>Windows.Desktop</td>\n      <td>1443.0</td>\n      <td>275890.0</td>\n      <td>4.0</td>\n      <td>5.0</td>\n      <td>...</td>\n      <td>UNKNOWN</td>\n      <td>227116.0</td>\n      <td>0</td>\n      <td>4096.0</td>\n      <td>MiniTower</td>\n      <td>18.500000</td>\n      <td>1366.0</td>\n      <td>768.0</td>\n      <td>Desktop</td>\n      <td>NaN</td>\n      <td>4.294967e+09</td>\n      <td>10.0.17134.228</td>\n      <td>amd64</td>\n      <td>rs4_release</td>\n      <td>17134</td>\n      <td>228</td>\n      <td>Professional</td>\n      <td>PROFESSIONAL</td>\n      <td>UUPUpgrade</td>\n      <td>17.0</td>\n      <td>64</td>\n      <td>FullAuto</td>\n      <td>0</td>\n      <td>IS_GENUINE</td>\n      <td>OEM:NONSLP</td>\n      <td>NaN</td>\n      <td>0.0</td>\n      <td>Retail</td>\n      <td>NaN</td>\n      <td>355.0</td>\n      <td>20050.0</td>\n      <td>0</td>\n      <td>NaN</td>\n      <td>0.0</td>\n      <td>0</td>\n      <td>0</td>\n      <td>0.0</td>\n      <td>0.0</td>\n      <td>3.0</td>\n      <td>1</td>\n    </tr>\n    <tr>\n      <th>4</th>\n      <td>000014a5f00daa18e76b81417eeb99fc</td>\n      <td>win8defender</td>\n      <td>1.1.15100.1</td>\n      <td>4.18.1807.18075</td>\n      <td>1.273.1379.0</td>\n      <td>0</td>\n      <td>7.0</td>\n      <td>0</td>\n      <td>NaN</td>\n      <td>53447.0</td>\n      <td>1.0</td>\n      <td>1.0</td>\n      <td>1</td>\n      <td>18</td>\n      <td>37376.0</td>\n      <td>NaN</td>\n      <td>277.0</td>\n      <td>75</td>\n      <td>windows10</td>\n      <td>x64</td>\n      <td>10.0.0.0</td>\n      <td>17134</td>\n      <td>768</td>\n      <td>rs4</td>\n      <td>17134.1.amd64fre.rs4_release.180410-1804</td>\n      <td>Home</td>\n      <td>1.0</td>\n      <td>0</td>\n      <td>NaN</td>\n      <td>0.0</td>\n      <td>137.0</td>\n      <td>RequireAdmin</td>\n      <td>1.0</td>\n      <td>1.0</td>\n      <td>Notebook</td>\n      <td>Windows.Desktop</td>\n      <td>1443.0</td>\n      <td>331929.0</td>\n      <td>4.0</td>\n      <td>5.0</td>\n      <td>...</td>\n      <td>HDD</td>\n      <td>101900.0</td>\n      <td>0</td>\n      <td>6144.0</td>\n      <td>Portable</td>\n      <td>14.000000</td>\n      <td>1366.0</td>\n      <td>768.0</td>\n      <td>Mobile</td>\n      <td>lion</td>\n      <td>0.000000e+00</td>\n      <td>10.0.17134.191</td>\n      <td>amd64</td>\n      <td>rs4_release</td>\n      <td>17134</td>\n      <td>191</td>\n      <td>Core</td>\n      <td>CORE</td>\n      <td>Update</td>\n      <td>8.0</td>\n      <td>31</td>\n      <td>FullAuto</td>\n      <td>0</td>\n      <td>IS_GENUINE</td>\n      <td>Retail</td>\n      <td>0.0</td>\n      <td>0.0</td>\n      <td>Retail</td>\n      <td>0.0</td>\n      <td>355.0</td>\n      <td>19844.0</td>\n      <td>0</td>\n      <td>0.0</td>\n      <td>0.0</td>\n      <td>0</td>\n      <td>0</td>\n      <td>0.0</td>\n      <td>0.0</td>\n      <td>1.0</td>\n      <td>1</td>\n    </tr>\n  </tbody>\n</table>\n</div>"
          },
          "metadata": {}
        }
      ]
    },
    {
      "metadata": {
        "trusted": true,
        "_uuid": "ce67ce365623214a25b7d12d5a18e20be1c6f0b9"
      },
      "cell_type": "code",
      "source": "#data preprocessing\ntrain_cats(df_raw)",
      "execution_count": 5,
      "outputs": []
    },
    {
      "metadata": {
        "trusted": true,
        "_uuid": "0cd894f01d2b78b41056e6fb1f6a7b7de07cf486"
      },
      "cell_type": "code",
      "source": "X, y, nas, mapper = proc_df(df_raw, 'HasDetections', do_scale=True, max_n_cat=10)",
      "execution_count": 6,
      "outputs": [
        {
          "output_type": "stream",
          "text": "/opt/conda/lib/python3.6/site-packages/numpy/core/_methods.py:36: RuntimeWarning: overflow encountered in reduce\n  return umr_sum(a, axis, dtype, out, keepdims, initial)\n/opt/conda/lib/python3.6/site-packages/numpy/core/fromnumeric.py:86: RuntimeWarning: overflow encountered in reduce\n  return ufunc.reduce(obj, axis, dtype, out, **passkwargs)\n/opt/conda/lib/python3.6/site-packages/numpy/core/_methods.py:36: RuntimeWarning: overflow encountered in reduce\n  return umr_sum(a, axis, dtype, out, keepdims, initial)\n/opt/conda/lib/python3.6/site-packages/numpy/core/fromnumeric.py:86: RuntimeWarning: overflow encountered in reduce\n  return ufunc.reduce(obj, axis, dtype, out, **passkwargs)\n/opt/conda/lib/python3.6/site-packages/numpy/core/_methods.py:36: RuntimeWarning: overflow encountered in reduce\n  return umr_sum(a, axis, dtype, out, keepdims, initial)\n/opt/conda/lib/python3.6/site-packages/numpy/core/fromnumeric.py:86: RuntimeWarning: overflow encountered in reduce\n  return ufunc.reduce(obj, axis, dtype, out, **passkwargs)\n/opt/conda/lib/python3.6/site-packages/numpy/core/_methods.py:36: RuntimeWarning: overflow encountered in reduce\n  return umr_sum(a, axis, dtype, out, keepdims, initial)\n/opt/conda/lib/python3.6/site-packages/numpy/core/fromnumeric.py:86: RuntimeWarning: overflow encountered in reduce\n  return ufunc.reduce(obj, axis, dtype, out, **passkwargs)\n/opt/conda/lib/python3.6/site-packages/numpy/core/_methods.py:36: RuntimeWarning: overflow encountered in reduce\n  return umr_sum(a, axis, dtype, out, keepdims, initial)\n/opt/conda/lib/python3.6/site-packages/numpy/core/fromnumeric.py:86: RuntimeWarning: overflow encountered in reduce\n  return ufunc.reduce(obj, axis, dtype, out, **passkwargs)\n/opt/conda/lib/python3.6/site-packages/numpy/core/_methods.py:36: RuntimeWarning: overflow encountered in reduce\n  return umr_sum(a, axis, dtype, out, keepdims, initial)\n/opt/conda/lib/python3.6/site-packages/numpy/core/fromnumeric.py:86: RuntimeWarning: overflow encountered in reduce\n  return ufunc.reduce(obj, axis, dtype, out, **passkwargs)\n/opt/conda/lib/python3.6/site-packages/numpy/core/_methods.py:36: RuntimeWarning: overflow encountered in reduce\n  return umr_sum(a, axis, dtype, out, keepdims, initial)\n/opt/conda/lib/python3.6/site-packages/numpy/core/fromnumeric.py:86: RuntimeWarning: overflow encountered in reduce\n  return ufunc.reduce(obj, axis, dtype, out, **passkwargs)\n/opt/conda/lib/python3.6/site-packages/numpy/core/_methods.py:36: RuntimeWarning: overflow encountered in reduce\n  return umr_sum(a, axis, dtype, out, keepdims, initial)\n/opt/conda/lib/python3.6/site-packages/numpy/core/fromnumeric.py:86: RuntimeWarning: overflow encountered in reduce\n  return ufunc.reduce(obj, axis, dtype, out, **passkwargs)\n/opt/conda/lib/python3.6/site-packages/numpy/core/_methods.py:36: RuntimeWarning: overflow encountered in reduce\n  return umr_sum(a, axis, dtype, out, keepdims, initial)\n/opt/conda/lib/python3.6/site-packages/numpy/core/fromnumeric.py:86: RuntimeWarning: overflow encountered in reduce\n  return ufunc.reduce(obj, axis, dtype, out, **passkwargs)\n/opt/conda/lib/python3.6/site-packages/numpy/core/_methods.py:36: RuntimeWarning: overflow encountered in reduce\n  return umr_sum(a, axis, dtype, out, keepdims, initial)\n/opt/conda/lib/python3.6/site-packages/numpy/core/fromnumeric.py:86: RuntimeWarning: overflow encountered in reduce\n  return ufunc.reduce(obj, axis, dtype, out, **passkwargs)\n/opt/conda/lib/python3.6/site-packages/numpy/core/_methods.py:36: RuntimeWarning: overflow encountered in reduce\n  return umr_sum(a, axis, dtype, out, keepdims, initial)\n/opt/conda/lib/python3.6/site-packages/numpy/core/fromnumeric.py:86: RuntimeWarning: overflow encountered in reduce\n  return ufunc.reduce(obj, axis, dtype, out, **passkwargs)\n/opt/conda/lib/python3.6/site-packages/numpy/core/_methods.py:36: RuntimeWarning: overflow encountered in reduce\n  return umr_sum(a, axis, dtype, out, keepdims, initial)\n/opt/conda/lib/python3.6/site-packages/numpy/core/fromnumeric.py:86: RuntimeWarning: overflow encountered in reduce\n  return ufunc.reduce(obj, axis, dtype, out, **passkwargs)\n/opt/conda/lib/python3.6/site-packages/numpy/core/_methods.py:36: RuntimeWarning: overflow encountered in reduce\n  return umr_sum(a, axis, dtype, out, keepdims, initial)\n/opt/conda/lib/python3.6/site-packages/numpy/core/fromnumeric.py:86: RuntimeWarning: overflow encountered in reduce\n  return ufunc.reduce(obj, axis, dtype, out, **passkwargs)\n/opt/conda/lib/python3.6/site-packages/numpy/core/_methods.py:36: RuntimeWarning: overflow encountered in reduce\n  return umr_sum(a, axis, dtype, out, keepdims, initial)\n/opt/conda/lib/python3.6/site-packages/numpy/core/fromnumeric.py:86: RuntimeWarning: overflow encountered in reduce\n  return ufunc.reduce(obj, axis, dtype, out, **passkwargs)\n/opt/conda/lib/python3.6/site-packages/numpy/core/_methods.py:36: RuntimeWarning: overflow encountered in reduce\n  return umr_sum(a, axis, dtype, out, keepdims, initial)\n/opt/conda/lib/python3.6/site-packages/numpy/core/fromnumeric.py:86: RuntimeWarning: overflow encountered in reduce\n  return ufunc.reduce(obj, axis, dtype, out, **passkwargs)\n/opt/conda/lib/python3.6/site-packages/numpy/core/_methods.py:36: RuntimeWarning: overflow encountered in reduce\n  return umr_sum(a, axis, dtype, out, keepdims, initial)\n/opt/conda/lib/python3.6/site-packages/numpy/core/fromnumeric.py:86: RuntimeWarning: overflow encountered in reduce\n  return ufunc.reduce(obj, axis, dtype, out, **passkwargs)\n/opt/conda/lib/python3.6/site-packages/numpy/core/_methods.py:36: RuntimeWarning: overflow encountered in reduce\n  return umr_sum(a, axis, dtype, out, keepdims, initial)\n/opt/conda/lib/python3.6/site-packages/numpy/core/fromnumeric.py:86: RuntimeWarning: overflow encountered in reduce\n  return ufunc.reduce(obj, axis, dtype, out, **passkwargs)\n/opt/conda/lib/python3.6/site-packages/numpy/core/_methods.py:36: RuntimeWarning: overflow encountered in reduce\n  return umr_sum(a, axis, dtype, out, keepdims, initial)\n/opt/conda/lib/python3.6/site-packages/numpy/core/fromnumeric.py:86: RuntimeWarning: overflow encountered in reduce\n  return ufunc.reduce(obj, axis, dtype, out, **passkwargs)\n/opt/conda/lib/python3.6/site-packages/numpy/core/_methods.py:36: RuntimeWarning: overflow encountered in reduce\n  return umr_sum(a, axis, dtype, out, keepdims, initial)\n/opt/conda/lib/python3.6/site-packages/numpy/core/fromnumeric.py:86: RuntimeWarning: overflow encountered in reduce\n  return ufunc.reduce(obj, axis, dtype, out, **passkwargs)\n/opt/conda/lib/python3.6/site-packages/numpy/core/_methods.py:36: RuntimeWarning: overflow encountered in reduce\n  return umr_sum(a, axis, dtype, out, keepdims, initial)\n/opt/conda/lib/python3.6/site-packages/numpy/core/fromnumeric.py:86: RuntimeWarning: overflow encountered in reduce\n  return ufunc.reduce(obj, axis, dtype, out, **passkwargs)\n/opt/conda/lib/python3.6/site-packages/numpy/core/_methods.py:36: RuntimeWarning: overflow encountered in reduce\n  return umr_sum(a, axis, dtype, out, keepdims, initial)\n/opt/conda/lib/python3.6/site-packages/numpy/core/fromnumeric.py:86: RuntimeWarning: overflow encountered in reduce\n  return ufunc.reduce(obj, axis, dtype, out, **passkwargs)\n/opt/conda/lib/python3.6/site-packages/numpy/core/_methods.py:36: RuntimeWarning: overflow encountered in reduce\n  return umr_sum(a, axis, dtype, out, keepdims, initial)\n/opt/conda/lib/python3.6/site-packages/sklearn/preprocessing/data.py:765: RuntimeWarning: invalid value encountered in true_divide\n  X /= self.scale_\n/opt/conda/lib/python3.6/site-packages/numpy/core/_methods.py:36: RuntimeWarning: overflow encountered in reduce\n  return umr_sum(a, axis, dtype, out, keepdims, initial)\n/opt/conda/lib/python3.6/site-packages/sklearn/preprocessing/data.py:765: RuntimeWarning: invalid value encountered in true_divide\n  X /= self.scale_\n/opt/conda/lib/python3.6/site-packages/numpy/core/_methods.py:36: RuntimeWarning: overflow encountered in reduce\n  return umr_sum(a, axis, dtype, out, keepdims, initial)\n/opt/conda/lib/python3.6/site-packages/sklearn/preprocessing/data.py:765: RuntimeWarning: invalid value encountered in true_divide\n  X /= self.scale_\n/opt/conda/lib/python3.6/site-packages/numpy/core/_methods.py:36: RuntimeWarning: overflow encountered in reduce\n  return umr_sum(a, axis, dtype, out, keepdims, initial)\n",
          "name": "stderr"
        },
        {
          "output_type": "stream",
          "text": "/opt/conda/lib/python3.6/site-packages/sklearn/preprocessing/data.py:765: RuntimeWarning: invalid value encountered in true_divide\n  X /= self.scale_\n/opt/conda/lib/python3.6/site-packages/numpy/core/_methods.py:36: RuntimeWarning: overflow encountered in reduce\n  return umr_sum(a, axis, dtype, out, keepdims, initial)\n/opt/conda/lib/python3.6/site-packages/sklearn/preprocessing/data.py:765: RuntimeWarning: invalid value encountered in true_divide\n  X /= self.scale_\n/opt/conda/lib/python3.6/site-packages/numpy/core/_methods.py:36: RuntimeWarning: overflow encountered in reduce\n  return umr_sum(a, axis, dtype, out, keepdims, initial)\n/opt/conda/lib/python3.6/site-packages/sklearn/preprocessing/data.py:765: RuntimeWarning: invalid value encountered in true_divide\n  X /= self.scale_\n/opt/conda/lib/python3.6/site-packages/numpy/core/_methods.py:36: RuntimeWarning: overflow encountered in reduce\n  return umr_sum(a, axis, dtype, out, keepdims, initial)\n/opt/conda/lib/python3.6/site-packages/sklearn/preprocessing/data.py:765: RuntimeWarning: invalid value encountered in true_divide\n  X /= self.scale_\n/opt/conda/lib/python3.6/site-packages/numpy/core/_methods.py:36: RuntimeWarning: overflow encountered in reduce\n  return umr_sum(a, axis, dtype, out, keepdims, initial)\n/opt/conda/lib/python3.6/site-packages/sklearn/preprocessing/data.py:765: RuntimeWarning: invalid value encountered in true_divide\n  X /= self.scale_\n/opt/conda/lib/python3.6/site-packages/numpy/core/_methods.py:36: RuntimeWarning: overflow encountered in reduce\n  return umr_sum(a, axis, dtype, out, keepdims, initial)\n/opt/conda/lib/python3.6/site-packages/sklearn/preprocessing/data.py:765: RuntimeWarning: invalid value encountered in true_divide\n  X /= self.scale_\n/opt/conda/lib/python3.6/site-packages/numpy/core/_methods.py:36: RuntimeWarning: overflow encountered in reduce\n  return umr_sum(a, axis, dtype, out, keepdims, initial)\n/opt/conda/lib/python3.6/site-packages/sklearn/preprocessing/data.py:765: RuntimeWarning: invalid value encountered in true_divide\n  X /= self.scale_\n/opt/conda/lib/python3.6/site-packages/numpy/core/_methods.py:36: RuntimeWarning: overflow encountered in reduce\n  return umr_sum(a, axis, dtype, out, keepdims, initial)\n/opt/conda/lib/python3.6/site-packages/sklearn/preprocessing/data.py:765: RuntimeWarning: invalid value encountered in true_divide\n  X /= self.scale_\n/opt/conda/lib/python3.6/site-packages/numpy/core/_methods.py:36: RuntimeWarning: overflow encountered in reduce\n  return umr_sum(a, axis, dtype, out, keepdims, initial)\n/opt/conda/lib/python3.6/site-packages/sklearn/preprocessing/data.py:765: RuntimeWarning: invalid value encountered in true_divide\n  X /= self.scale_\n/opt/conda/lib/python3.6/site-packages/numpy/core/_methods.py:36: RuntimeWarning: overflow encountered in reduce\n  return umr_sum(a, axis, dtype, out, keepdims, initial)\n/opt/conda/lib/python3.6/site-packages/sklearn/preprocessing/data.py:765: RuntimeWarning: invalid value encountered in true_divide\n  X /= self.scale_\n/opt/conda/lib/python3.6/site-packages/numpy/core/_methods.py:36: RuntimeWarning: overflow encountered in reduce\n  return umr_sum(a, axis, dtype, out, keepdims, initial)\n/opt/conda/lib/python3.6/site-packages/sklearn/preprocessing/data.py:765: RuntimeWarning: invalid value encountered in true_divide\n  X /= self.scale_\n/opt/conda/lib/python3.6/site-packages/numpy/core/_methods.py:36: RuntimeWarning: overflow encountered in reduce\n  return umr_sum(a, axis, dtype, out, keepdims, initial)\n/opt/conda/lib/python3.6/site-packages/sklearn/preprocessing/data.py:765: RuntimeWarning: invalid value encountered in true_divide\n  X /= self.scale_\n/opt/conda/lib/python3.6/site-packages/numpy/core/_methods.py:36: RuntimeWarning: overflow encountered in reduce\n  return umr_sum(a, axis, dtype, out, keepdims, initial)\n/opt/conda/lib/python3.6/site-packages/sklearn/preprocessing/data.py:765: RuntimeWarning: invalid value encountered in true_divide\n  X /= self.scale_\n/opt/conda/lib/python3.6/site-packages/numpy/core/_methods.py:36: RuntimeWarning: overflow encountered in reduce\n  return umr_sum(a, axis, dtype, out, keepdims, initial)\n/opt/conda/lib/python3.6/site-packages/sklearn/preprocessing/data.py:765: RuntimeWarning: invalid value encountered in true_divide\n  X /= self.scale_\n/opt/conda/lib/python3.6/site-packages/numpy/core/_methods.py:36: RuntimeWarning: overflow encountered in reduce\n  return umr_sum(a, axis, dtype, out, keepdims, initial)\n/opt/conda/lib/python3.6/site-packages/sklearn/preprocessing/data.py:765: RuntimeWarning: invalid value encountered in true_divide\n  X /= self.scale_\n/opt/conda/lib/python3.6/site-packages/numpy/core/_methods.py:36: RuntimeWarning: overflow encountered in reduce\n  return umr_sum(a, axis, dtype, out, keepdims, initial)\n/opt/conda/lib/python3.6/site-packages/sklearn/preprocessing/data.py:765: RuntimeWarning: invalid value encountered in true_divide\n  X /= self.scale_\n/opt/conda/lib/python3.6/site-packages/numpy/core/_methods.py:36: RuntimeWarning: overflow encountered in reduce\n  return umr_sum(a, axis, dtype, out, keepdims, initial)\n/opt/conda/lib/python3.6/site-packages/sklearn/preprocessing/data.py:765: RuntimeWarning: invalid value encountered in true_divide\n  X /= self.scale_\n/opt/conda/lib/python3.6/site-packages/numpy/core/_methods.py:36: RuntimeWarning: overflow encountered in reduce\n  return umr_sum(a, axis, dtype, out, keepdims, initial)\n/opt/conda/lib/python3.6/site-packages/sklearn/preprocessing/data.py:765: RuntimeWarning: invalid value encountered in true_divide\n  X /= self.scale_\n",
          "name": "stderr"
        }
      ]
    },
    {
      "metadata": {
        "trusted": true,
        "_uuid": "d3c9a40010ea09c1c6fb954ecf31882177a48ca9"
      },
      "cell_type": "code",
      "source": "from sklearn.model_selection import train_test_split\nX_trn, X_vld, y_trn, y_vld = train_test_split(X, y, test_size =0.2)",
      "execution_count": 7,
      "outputs": []
    },
    {
      "metadata": {
        "trusted": true,
        "_uuid": "7c24a57e7b5a153757c730565865a524759a72ab"
      },
      "cell_type": "code",
      "source": "train_data = lightgbm.Dataset(X_trn, label=y_trn)",
      "execution_count": 8,
      "outputs": []
    },
    {
      "metadata": {
        "trusted": true,
        "_uuid": "4040ae8812d5bf6b4f2b40a7ea4dd8c2c388c0cf"
      },
      "cell_type": "code",
      "source": "params = {}\nparams['learning_rate'] = 0.3\nparams['boosting_type'] = 'gbdt'\nparams['objective'] = 'binary'\nparams['metric'] = 'binary_logloss'\nparams['sub_feature'] = 0.5\nparams['num_leaves'] = 100\nparams['min_data'] = 50\nparams['max_depth'] = 10\nclf = lightgbm.train(params, train_data, 100)",
      "execution_count": 9,
      "outputs": []
    },
    {
      "metadata": {
        "trusted": true,
        "_uuid": "45059a227c9b3cfd8bda49c22e0ea9c23cf2b24b"
      },
      "cell_type": "code",
      "source": "from sklearn.metrics import roc_auc_score\nroc_auc_score(y_trn, clf.predict(X_trn))",
      "execution_count": 10,
      "outputs": [
        {
          "output_type": "execute_result",
          "execution_count": 10,
          "data": {
            "text/plain": "0.7394211059208418"
          },
          "metadata": {}
        }
      ]
    },
    {
      "metadata": {
        "trusted": true,
        "_uuid": "5b43e51d60320a39600d512bdcf3af8ef18b0ef0"
      },
      "cell_type": "code",
      "source": "#roc_auc_score on validationn data\nroc_auc_score(y_vld, clf.predict(X_vld))",
      "execution_count": 11,
      "outputs": [
        {
          "output_type": "execute_result",
          "execution_count": 11,
          "data": {
            "text/plain": "0.7257936785358152"
          },
          "metadata": {}
        }
      ]
    },
    {
      "metadata": {
        "trusted": true,
        "_uuid": "6932a383f9ef1706ca8b6cde8db99677e41c638d"
      },
      "cell_type": "code",
      "source": "lightgbm.Booster.save_model(clf, filename='mode.txt')",
      "execution_count": null,
      "outputs": []
    },
    {
      "metadata": {
        "trusted": true,
        "_uuid": "11e97d56c93bf1242b07b75c5d5d5cf42355bd82"
      },
      "cell_type": "code",
      "source": "",
      "execution_count": null,
      "outputs": []
    }
  ],
  "metadata": {
    "kernelspec": {
      "display_name": "Python 3",
      "language": "python",
      "name": "python3"
    },
    "language_info": {
      "name": "python",
      "version": "3.6.6",
      "mimetype": "text/x-python",
      "codemirror_mode": {
        "name": "ipython",
        "version": 3
      },
      "pygments_lexer": "ipython3",
      "nbconvert_exporter": "python",
      "file_extension": ".py"
    }
  },
  "nbformat": 4,
  "nbformat_minor": 1
}
