{
  "cells": [
    {
      "metadata": {
        "_uuid": "8f2839f25d086af736a60e9eeb907d3b93b6e0e5",
        "_cell_guid": "b1076dfc-b9ad-4769-8c92-a6c4dae69d19",
        "trusted": true
      },
      "cell_type": "code",
      "source": "import numpy as np \nimport pandas as pd \nimport os\nprint(os.listdir(\"../input\"))",
      "execution_count": 28,
      "outputs": [
        {
          "output_type": "stream",
          "text": "['embeddings', 'train.csv', 'sample_submission.csv', 'test.csv']\n",
          "name": "stdout"
        }
      ]
    },
    {
      "metadata": {
        "trusted": true,
        "_uuid": "8d7a03a1ba0abc5c69a8dce92a2d09f9dfd9ac55"
      },
      "cell_type": "code",
      "source": "df_raw = pd.read_csv('../input/train.csv');df_raw.head(2)",
      "execution_count": 29,
      "outputs": [
        {
          "output_type": "execute_result",
          "execution_count": 29,
          "data": {
            "text/plain": "                    qid  ...   target\n0  00002165364db923c7e6  ...        0\n1  000032939017120e6e44  ...        0\n\n[2 rows x 3 columns]",
            "text/html": "<div>\n<style scoped>\n    .dataframe tbody tr th:only-of-type {\n        vertical-align: middle;\n    }\n\n    .dataframe tbody tr th {\n        vertical-align: top;\n    }\n\n    .dataframe thead th {\n        text-align: right;\n    }\n</style>\n<table border=\"1\" class=\"dataframe\">\n  <thead>\n    <tr style=\"text-align: right;\">\n      <th></th>\n      <th>qid</th>\n      <th>question_text</th>\n      <th>target</th>\n    </tr>\n  </thead>\n  <tbody>\n    <tr>\n      <th>0</th>\n      <td>00002165364db923c7e6</td>\n      <td>How did Quebec nationalists see their province...</td>\n      <td>0</td>\n    </tr>\n    <tr>\n      <th>1</th>\n      <td>000032939017120e6e44</td>\n      <td>Do you have an adopted dog, how would you enco...</td>\n      <td>0</td>\n    </tr>\n  </tbody>\n</table>\n</div>"
          },
          "metadata": {}
        }
      ]
    },
    {
      "metadata": {
        "trusted": true,
        "_uuid": "461f5e08dcecab83431ab42360701ac68041e55c"
      },
      "cell_type": "code",
      "source": "from sklearn.linear_model import LogisticRegression",
      "execution_count": 30,
      "outputs": []
    },
    {
      "metadata": {
        "trusted": true,
        "_uuid": "55e85e5e79667a5540d3145d6efb9354005b4d4a"
      },
      "cell_type": "code",
      "source": "from sklearn.model_selection import train_test_split",
      "execution_count": 31,
      "outputs": []
    },
    {
      "metadata": {
        "trusted": true,
        "_uuid": "315cef9437e94ca63d60bbe3521ab3c423c50357"
      },
      "cell_type": "code",
      "source": "df = df_raw.loc[df_raw['target'] == 1]",
      "execution_count": 32,
      "outputs": []
    },
    {
      "metadata": {
        "trusted": true,
        "_uuid": "c4e36ac0f4eb6736f0483a7896237a97b8644f8e"
      },
      "cell_type": "code",
      "source": "df.shape",
      "execution_count": 33,
      "outputs": [
        {
          "output_type": "execute_result",
          "execution_count": 33,
          "data": {
            "text/plain": "(80810, 3)"
          },
          "metadata": {}
        }
      ]
    },
    {
      "metadata": {
        "trusted": true,
        "_uuid": "a8f1ee91e84ae7f74cc0dcd85beeefa59ce768da"
      },
      "cell_type": "code",
      "source": "df1 = df_raw.loc[df_raw['target'] == 0].loc[:490810]; df1.shape",
      "execution_count": 34,
      "outputs": [
        {
          "output_type": "execute_result",
          "execution_count": 34,
          "data": {
            "text/plain": "(460422, 3)"
          },
          "metadata": {}
        }
      ]
    },
    {
      "metadata": {
        "trusted": true,
        "_uuid": "262e3eb35c8a4551d6807086743fb86fe98f64f7"
      },
      "cell_type": "code",
      "source": "result = pd.concat([df, df1]); result.shape",
      "execution_count": 35,
      "outputs": [
        {
          "output_type": "execute_result",
          "execution_count": 35,
          "data": {
            "text/plain": "(541232, 3)"
          },
          "metadata": {}
        }
      ]
    },
    {
      "metadata": {
        "trusted": true,
        "_uuid": "6bf3b23522062a50b3a04289f54baeafd7d20d1a"
      },
      "cell_type": "code",
      "source": "X_trn, X_vld, y_trn, y_vld = train_test_split(result['question_text'], result['target'], test_size=0.0001)",
      "execution_count": 36,
      "outputs": []
    },
    {
      "metadata": {
        "trusted": true,
        "_uuid": "5e3dc30d467d5c55e1ad2f2319041b4deffb98c7"
      },
      "cell_type": "code",
      "source": "X_trn.shape, X_vld.shape",
      "execution_count": 37,
      "outputs": [
        {
          "output_type": "execute_result",
          "execution_count": 37,
          "data": {
            "text/plain": "((541177,), (55,))"
          },
          "metadata": {}
        }
      ]
    },
    {
      "metadata": {
        "trusted": true,
        "_uuid": "71289af13253119205e67d162bcd685129e36320"
      },
      "cell_type": "code",
      "source": "from sklearn.feature_extraction.text import CountVectorizer\nveczr = CountVectorizer()",
      "execution_count": 39,
      "outputs": []
    },
    {
      "metadata": {
        "trusted": true,
        "_uuid": "f8c767d95c18869e2720649fc22f0219e238e58d"
      },
      "cell_type": "code",
      "source": "trn_term_doc = veczr.fit_transform(X_trn)\nval_term_doc = veczr.transform(X_vld)",
      "execution_count": 40,
      "outputs": []
    },
    {
      "metadata": {
        "trusted": true,
        "_uuid": "4d380eb81f00a431857ec0f8bbd22a922a48c77e"
      },
      "cell_type": "code",
      "source": "vocab = veczr.get_feature_names(); vocab[5000:5005]",
      "execution_count": 41,
      "outputs": [
        {
          "output_type": "execute_result",
          "execution_count": 41,
          "data": {
            "text/plain": "['92cd', '92nd', '92percentile', '92s', '93']"
          },
          "metadata": {}
        }
      ]
    },
    {
      "metadata": {
        "trusted": true,
        "_uuid": "5c8e23bbc9e41722964db387d9b1b54b9f1732d1"
      },
      "cell_type": "code",
      "source": "x= trn_term_doc.sign()\ny = y_trn",
      "execution_count": 42,
      "outputs": []
    },
    {
      "metadata": {
        "trusted": true,
        "_uuid": "439216a49ac98be33339977564f8c47de4c4ae99"
      },
      "cell_type": "code",
      "source": "from sklearn.metrics import f1_score",
      "execution_count": 43,
      "outputs": []
    },
    {
      "metadata": {
        "trusted": true,
        "_uuid": "b3a8452f52af21db69db0cbb9f7f4d2d8867cee0"
      },
      "cell_type": "code",
      "source": "m = LogisticRegression(C=1e8, dual=True)\nm.fit(x, y)",
      "execution_count": 44,
      "outputs": [
        {
          "output_type": "stream",
          "text": "/opt/conda/lib/python3.6/site-packages/sklearn/linear_model/logistic.py:433: FutureWarning: Default solver will be changed to 'lbfgs' in 0.22. Specify a solver to silence this warning.\n  FutureWarning)\n/opt/conda/lib/python3.6/site-packages/sklearn/svm/base.py:931: ConvergenceWarning: Liblinear failed to converge, increase the number of iterations.\n  \"the number of iterations.\", ConvergenceWarning)\n",
          "name": "stderr"
        },
        {
          "output_type": "execute_result",
          "execution_count": 44,
          "data": {
            "text/plain": "LogisticRegression(C=100000000.0, class_weight=None, dual=True,\n          fit_intercept=True, intercept_scaling=1, max_iter=100,\n          multi_class='warn', n_jobs=None, penalty='l2', random_state=None,\n          solver='warn', tol=0.0001, verbose=0, warm_start=False)"
          },
          "metadata": {}
        }
      ]
    },
    {
      "metadata": {
        "trusted": true,
        "_uuid": "e4b45acfa09095e104bc38694765875cc5881c44"
      },
      "cell_type": "code",
      "source": "f1_score(y_vld, m.predict(veczr.transform(X_vld).sign()))",
      "execution_count": 45,
      "outputs": [
        {
          "output_type": "execute_result",
          "execution_count": 45,
          "data": {
            "text/plain": "0.6666666666666666"
          },
          "metadata": {}
        }
      ]
    },
    {
      "metadata": {
        "trusted": true,
        "_uuid": "034360f53815142935da3e67eb61213c59b585ce"
      },
      "cell_type": "code",
      "source": "m = LogisticRegression(C=0.1, dual=True)\nm.fit(x, y)\nf1_score(y_vld, m.predict(veczr.transform(X_vld).sign()))",
      "execution_count": 46,
      "outputs": [
        {
          "output_type": "stream",
          "text": "/opt/conda/lib/python3.6/site-packages/sklearn/linear_model/logistic.py:433: FutureWarning: Default solver will be changed to 'lbfgs' in 0.22. Specify a solver to silence this warning.\n  FutureWarning)\n",
          "name": "stderr"
        },
        {
          "output_type": "execute_result",
          "execution_count": 46,
          "data": {
            "text/plain": "0.75"
          },
          "metadata": {}
        }
      ]
    },
    {
      "metadata": {
        "trusted": true,
        "_uuid": "67487c7467521b42e7f8b454f2c2922fc041b733"
      },
      "cell_type": "code",
      "source": "f1_score(y_vld, m.predict(veczr.transform(X_vld).sign()))",
      "execution_count": 47,
      "outputs": [
        {
          "output_type": "execute_result",
          "execution_count": 47,
          "data": {
            "text/plain": "0.75"
          },
          "metadata": {}
        }
      ]
    },
    {
      "metadata": {
        "trusted": true,
        "_uuid": "34e36a590f33f85e1714b9a0a6885be8974b1dc3"
      },
      "cell_type": "code",
      "source": "veczr =  CountVectorizer(ngram_range=(1,4), tokenizer=None)\ntrn_term_doc = veczr.fit_transform(X_trn)\nval_term_doc = veczr.transform(X_vld)",
      "execution_count": 48,
      "outputs": []
    },
    {
      "metadata": {
        "trusted": true,
        "_uuid": "5e5eac03966e7046ccb697619e5f8cf48132f9c7"
      },
      "cell_type": "code",
      "source": "y=y_trn\nx=trn_term_doc.sign()\nval_x = val_term_doc.sign()\nm = LogisticRegression(C=0.1, dual=True)\nm.fit(x, y);",
      "execution_count": 49,
      "outputs": [
        {
          "output_type": "stream",
          "text": "/opt/conda/lib/python3.6/site-packages/sklearn/linear_model/logistic.py:433: FutureWarning: Default solver will be changed to 'lbfgs' in 0.22. Specify a solver to silence this warning.\n  FutureWarning)\n",
          "name": "stderr"
        }
      ]
    },
    {
      "metadata": {
        "trusted": true,
        "_uuid": "35514cd27d9919174c3c7fa96743d443814eb14b"
      },
      "cell_type": "code",
      "source": "f1_score(y_vld, m.predict(veczr.transform(X_vld).sign()))",
      "execution_count": 50,
      "outputs": [
        {
          "output_type": "execute_result",
          "execution_count": 50,
          "data": {
            "text/plain": "0.75"
          },
          "metadata": {}
        }
      ]
    },
    {
      "metadata": {
        "trusted": true,
        "_uuid": "594c73ed7bc638678536bf239e6b5291695de926"
      },
      "cell_type": "code",
      "source": "test_df = pd.read_csv(\"../input/test.csv\"); test_df.head()",
      "execution_count": 51,
      "outputs": [
        {
          "output_type": "execute_result",
          "execution_count": 51,
          "data": {
            "text/plain": "                    qid                                      question_text\n0  00014894849d00ba98a9  My voice range is A2-C5. My chest voice goes u...\n1  000156468431f09b3cae           How much does a tutor earn in Bangalore?\n2  000227734433360e1aae  What are the best made pocket knives under $20...\n3  0005e06fbe3045bd2a92  Why would they add a hypothetical scenario tha...\n4  00068a0f7f41f50fc399   What is the dresscode for Techmahindra freshers?",
            "text/html": "<div>\n<style scoped>\n    .dataframe tbody tr th:only-of-type {\n        vertical-align: middle;\n    }\n\n    .dataframe tbody tr th {\n        vertical-align: top;\n    }\n\n    .dataframe thead th {\n        text-align: right;\n    }\n</style>\n<table border=\"1\" class=\"dataframe\">\n  <thead>\n    <tr style=\"text-align: right;\">\n      <th></th>\n      <th>qid</th>\n      <th>question_text</th>\n    </tr>\n  </thead>\n  <tbody>\n    <tr>\n      <th>0</th>\n      <td>00014894849d00ba98a9</td>\n      <td>My voice range is A2-C5. My chest voice goes u...</td>\n    </tr>\n    <tr>\n      <th>1</th>\n      <td>000156468431f09b3cae</td>\n      <td>How much does a tutor earn in Bangalore?</td>\n    </tr>\n    <tr>\n      <th>2</th>\n      <td>000227734433360e1aae</td>\n      <td>What are the best made pocket knives under $20...</td>\n    </tr>\n    <tr>\n      <th>3</th>\n      <td>0005e06fbe3045bd2a92</td>\n      <td>Why would they add a hypothetical scenario tha...</td>\n    </tr>\n    <tr>\n      <th>4</th>\n      <td>00068a0f7f41f50fc399</td>\n      <td>What is the dresscode for Techmahindra freshers?</td>\n    </tr>\n  </tbody>\n</table>\n</div>"
          },
          "metadata": {}
        }
      ]
    },
    {
      "metadata": {
        "trusted": true,
        "_uuid": "a88ace00df1004102cfad38bb0f90a073e6b45f3"
      },
      "cell_type": "code",
      "source": "df_test = test_df['question_text']",
      "execution_count": 52,
      "outputs": []
    },
    {
      "metadata": {
        "trusted": true,
        "_uuid": "ba43a495b99e3e9f3728e77ea6a3721b2cd6441e"
      },
      "cell_type": "code",
      "source": "preds = m.predict(veczr.transform(df_test).sign())",
      "execution_count": 53,
      "outputs": []
    },
    {
      "metadata": {
        "trusted": true,
        "_uuid": "10f04a5e0c2aca164cb464c0532787cc886ea7b3"
      },
      "cell_type": "code",
      "source": "pred_test_y = preds.astype(int)\ntest_df = pd.read_csv(\"../input/test.csv\", usecols=[\"qid\"])\nout_df = pd.DataFrame({\"qid\":test_df[\"qid\"].values})\nout_df['prediction'] = pred_test_y\nout_df.to_csv(\"submission.csv\", index=False)",
      "execution_count": 54,
      "outputs": []
    },
    {
      "metadata": {
        "trusted": true,
        "_uuid": "61638fbd30bf780c3fb521b37c15d5febef9bd7d"
      },
      "cell_type": "code",
      "source": "out_df.head()",
      "execution_count": 55,
      "outputs": [
        {
          "output_type": "execute_result",
          "execution_count": 55,
          "data": {
            "text/plain": "                    qid  prediction\n0  00014894849d00ba98a9           0\n1  000156468431f09b3cae           0\n2  000227734433360e1aae           0\n3  0005e06fbe3045bd2a92           0\n4  00068a0f7f41f50fc399           0",
            "text/html": "<div>\n<style scoped>\n    .dataframe tbody tr th:only-of-type {\n        vertical-align: middle;\n    }\n\n    .dataframe tbody tr th {\n        vertical-align: top;\n    }\n\n    .dataframe thead th {\n        text-align: right;\n    }\n</style>\n<table border=\"1\" class=\"dataframe\">\n  <thead>\n    <tr style=\"text-align: right;\">\n      <th></th>\n      <th>qid</th>\n      <th>prediction</th>\n    </tr>\n  </thead>\n  <tbody>\n    <tr>\n      <th>0</th>\n      <td>00014894849d00ba98a9</td>\n      <td>0</td>\n    </tr>\n    <tr>\n      <th>1</th>\n      <td>000156468431f09b3cae</td>\n      <td>0</td>\n    </tr>\n    <tr>\n      <th>2</th>\n      <td>000227734433360e1aae</td>\n      <td>0</td>\n    </tr>\n    <tr>\n      <th>3</th>\n      <td>0005e06fbe3045bd2a92</td>\n      <td>0</td>\n    </tr>\n    <tr>\n      <th>4</th>\n      <td>00068a0f7f41f50fc399</td>\n      <td>0</td>\n    </tr>\n  </tbody>\n</table>\n</div>"
          },
          "metadata": {}
        }
      ]
    },
    {
      "metadata": {
        "trusted": true,
        "_uuid": "e5b0d7319f3fdb82ad647c91a808b90c6ad3c189"
      },
      "cell_type": "code",
      "source": "",
      "execution_count": null,
      "outputs": []
    }
  ],
  "metadata": {
    "kernelspec": {
      "display_name": "Python 3",
      "language": "python",
      "name": "python3"
    },
    "language_info": {
      "name": "python",
      "version": "3.6.6",
      "mimetype": "text/x-python",
      "codemirror_mode": {
        "name": "ipython",
        "version": 3
      },
      "pygments_lexer": "ipython3",
      "nbconvert_exporter": "python",
      "file_extension": ".py"
    }
  },
  "nbformat": 4,
  "nbformat_minor": 1
}