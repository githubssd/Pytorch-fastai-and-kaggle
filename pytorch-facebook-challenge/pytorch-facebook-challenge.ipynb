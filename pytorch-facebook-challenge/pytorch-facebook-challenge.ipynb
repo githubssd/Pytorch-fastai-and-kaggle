{
  "cells": [
    {
      "metadata": {
        "_uuid": "8f2839f25d086af736a60e9eeb907d3b93b6e0e5",
        "_cell_guid": "b1076dfc-b9ad-4769-8c92-a6c4dae69d19",
        "trusted": true
      },
      "cell_type": "code",
      "source": "%reload_ext autoreload\n%autoreload 2\n%matplotlib inline",
      "execution_count": 1,
      "outputs": []
    },
    {
      "metadata": {
        "_cell_guid": "79c7e3d0-c299-4dcb-8224-4455121ee9b0",
        "_uuid": "d629ff2d2480ee46fbb7e2d37f6b5fab8052498a",
        "trusted": true
      },
      "cell_type": "code",
      "source": "from fastai.imports import *\nfrom fastai.transforms import *\nfrom fastai.conv_learner import *\nfrom fastai.model import *\nfrom fastai.dataset import *\nfrom fastai.sgdr import *\nfrom fastai.plots import *",
      "execution_count": 2,
      "outputs": [
        {
          "output_type": "stream",
          "text": "/opt/conda/lib/python3.6/site-packages/sklearn/ensemble/weight_boosting.py:29: DeprecationWarning: numpy.core.umath_tests is an internal NumPy module and should not be imported. It will be removed in a future NumPy release.\n  from numpy.core.umath_tests import inner1d\n",
          "name": "stderr"
        }
      ]
    },
    {
      "metadata": {
        "trusted": true,
        "_uuid": "001563477e078c550b7c2ea37063e822bdfab40d"
      },
      "cell_type": "code",
      "source": "PATH = '../input/flower_data/flower_data'\nsz=224",
      "execution_count": 3,
      "outputs": []
    },
    {
      "metadata": {
        "trusted": true,
        "_uuid": "6698f70425c5fe4a28b1fd69901194f79f5873e3"
      },
      "cell_type": "code",
      "source": "torch.backends.cudnn.enabled",
      "execution_count": 4,
      "outputs": [
        {
          "output_type": "execute_result",
          "execution_count": 4,
          "data": {
            "text/plain": "True"
          },
          "metadata": {}
        }
      ]
    },
    {
      "metadata": {
        "trusted": true,
        "_uuid": "3343328c57997360965538a7c72e6f814c98e730"
      },
      "cell_type": "code",
      "source": "import os\nos.listdir('../input/flower_data/flower_data')",
      "execution_count": 5,
      "outputs": [
        {
          "output_type": "execute_result",
          "execution_count": 5,
          "data": {
            "text/plain": "['train', 'valid']"
          },
          "metadata": {}
        }
      ]
    },
    {
      "metadata": {
        "trusted": true,
        "_uuid": "5e546fe9dce027297efee64ee366ed713fed9720"
      },
      "cell_type": "code",
      "source": "import pathlib\narch=resnet101\ndata = ImageClassifierData.from_paths(PATH, tfms=tfms_from_model(arch, sz))\ndata.path = pathlib.Path('.')\nlearn = ConvLearner.pretrained(arch, data, precompute=True)\n",
      "execution_count": 6,
      "outputs": [
        {
          "output_type": "stream",
          "text": "Downloading: \"https://download.pytorch.org/models/resnet101-5d3b4d8f.pth\" to /tmp/.torch/models/resnet101-5d3b4d8f.pth\n100%|██████████| 178728960/178728960 [00:02<00:00, 75961274.96it/s]\n",
          "name": "stderr"
        },
        {
          "output_type": "stream",
          "text": "\r  0%|          | 0/103 [00:00<?, ?it/s]",
          "name": "stdout"
        },
        {
          "output_type": "stream",
          "text": "/opt/conda/lib/python3.6/site-packages/fastai/initializers.py:6: UserWarning: nn.init.kaiming_normal is now deprecated in favor of nn.init.kaiming_normal_.\n  if hasattr(m, 'weight'): init_fn(m.weight)\n",
          "name": "stderr"
        },
        {
          "output_type": "stream",
          "text": "100%|██████████| 103/103 [01:49<00:00,  1.49it/s]\n100%|██████████| 13/13 [00:16<00:00,  1.19it/s]\n",
          "name": "stdout"
        }
      ]
    },
    {
      "metadata": {
        "trusted": true,
        "_uuid": "559e86171efc624948fc3a47efbdf66e2992623c"
      },
      "cell_type": "code",
      "source": "learn.precompute = False\nlearn.unfreeze()\nlr=np.array([1e-4,1e-3,1e-2])\nlearn.fit(lr, 3, cycle_len=1, cycle_mult=2)",
      "execution_count": 7,
      "outputs": [
        {
          "output_type": "display_data",
          "data": {
            "text/plain": "HBox(children=(IntProgress(value=0, description='Epoch', max=7), HTML(value='')))",
            "application/vnd.jupyter.widget-view+json": {
              "version_major": 2,
              "version_minor": 0,
              "model_id": "532ae04bf2ba46ba9178a9c3f6f9b09a"
            }
          },
          "metadata": {}
        },
        {
          "output_type": "stream",
          "text": "epoch      trn_loss   val_loss   accuracy                   \n    0      1.800851   1.051876   0.816626  \n    1      0.725609   0.302614   0.9511                      \n    2      0.340066   0.25926    0.964548                    \n    3      0.225249   0.174541   0.966993                    \n    4      0.12421    0.139704   0.976773                    \n    5      0.086142   0.133569   0.973105                     \n    6      0.070734   0.132573   0.97555                      \n\n",
          "name": "stdout"
        },
        {
          "output_type": "execute_result",
          "execution_count": 7,
          "data": {
            "text/plain": "[0.1325727775510774, 0.9755501221036561]"
          },
          "metadata": {}
        }
      ]
    },
    {
      "metadata": {
        "trusted": true,
        "_uuid": "1639aee666ef5589973198b1f2a883729f7aab1b",
        "scrolled": true
      },
      "cell_type": "code",
      "source": "learn.fit(lr, 3, cycle_len=1, cycle_mult=2)",
      "execution_count": 8,
      "outputs": [
        {
          "output_type": "display_data",
          "data": {
            "text/plain": "HBox(children=(IntProgress(value=0, description='Epoch', max=7), HTML(value='')))",
            "application/vnd.jupyter.widget-view+json": {
              "version_major": 2,
              "version_minor": 0,
              "model_id": "60096ddd08744644868c770d35f06f36"
            }
          },
          "metadata": {}
        },
        {
          "output_type": "stream",
          "text": "epoch      trn_loss   val_loss   accuracy                     \n    0      0.073479   0.121762   0.98044   \n    1      0.057494   0.115723   0.98044                      \n    2      0.045665   0.109072   0.981663                     \n    3      0.041455   0.103913   0.981663                     \n    4      0.034281   0.097888   0.984108                     \n    5      0.029685   0.098666   0.979218                     \n    6      0.028608   0.094181   0.981663                     \n\n",
          "name": "stdout"
        },
        {
          "output_type": "execute_result",
          "execution_count": 8,
          "data": {
            "text/plain": "[0.09418136493500986, 0.981662591541309]"
          },
          "metadata": {}
        }
      ]
    }
  ],
  "metadata": {
    "kernelspec": {
      "display_name": "Python 3",
      "language": "python",
      "name": "python3"
    },
    "language_info": {
      "name": "python",
      "version": "3.6.6",
      "mimetype": "text/x-python",
      "codemirror_mode": {
        "name": "ipython",
        "version": 3
      },
      "pygments_lexer": "ipython3",
      "nbconvert_exporter": "python",
      "file_extension": ".py"
    }
  },
  "nbformat": 4,
  "nbformat_minor": 1
}