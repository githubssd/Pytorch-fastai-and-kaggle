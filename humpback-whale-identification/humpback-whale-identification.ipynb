{
  "cells": [
    {
      "metadata": {
        "trusted": true,
        "_uuid": "77def3f8919ca9be144c36c667bb81fcdd6e3a71"
      },
      "cell_type": "code",
      "source": "%reload_ext autoreload\n%autoreload 2\n%matplotlib inline\n\nfrom fastai.imports import *\nfrom fastai.torch_imports import *\nfrom fastai.transforms import *\nfrom fastai.conv_learner import *\nfrom fastai.model import *\nfrom fastai.dataset import *\nfrom fastai.sgdr import *\nfrom fastai.plots import *\n\ntorch.cuda.set_device(0)",
      "execution_count": 2,
      "outputs": [
        {
          "output_type": "stream",
          "text": "/opt/conda/lib/python3.6/site-packages/sklearn/ensemble/weight_boosting.py:29: DeprecationWarning: numpy.core.umath_tests is an internal NumPy module and should not be imported. It will be removed in a future NumPy release.\n  from numpy.core.umath_tests import inner1d\n",
          "name": "stderr"
        }
      ]
    },
    {
      "metadata": {
        "trusted": true,
        "_uuid": "3da46ced6d3c4262bc403117b2e5bc998966fabf"
      },
      "cell_type": "code",
      "source": "PATH = \"../input/\"\nsz = 224\narch = resnet101\nbs = 58",
      "execution_count": 20,
      "outputs": []
    },
    {
      "metadata": {
        "trusted": true,
        "_uuid": "799333ce2578c054344d73bdb748608f667bd3a6"
      },
      "cell_type": "code",
      "source": "label_csv = f'{PATH}train.csv'\nn = len(list(open(label_csv))) - 1 # header is not counted (-1)\nval_idxs = get_cv_idxs(n) # random 20% data for validation set",
      "execution_count": 4,
      "outputs": []
    },
    {
      "metadata": {
        "trusted": true,
        "_uuid": "99eba874321c459aee6d0b917970f76a4bab0865"
      },
      "cell_type": "code",
      "source": "n",
      "execution_count": 5,
      "outputs": [
        {
          "output_type": "execute_result",
          "execution_count": 5,
          "data": {
            "text/plain": "25361"
          },
          "metadata": {}
        }
      ]
    },
    {
      "metadata": {
        "trusted": true,
        "_uuid": "fab3a2db11a388f84959ebf1908105427869847d"
      },
      "cell_type": "code",
      "source": "len(val_idxs)",
      "execution_count": 6,
      "outputs": [
        {
          "output_type": "execute_result",
          "execution_count": 6,
          "data": {
            "text/plain": "5072"
          },
          "metadata": {}
        }
      ]
    },
    {
      "metadata": {
        "trusted": true,
        "_uuid": "d3c69a52c9573f1ee926c4aafa6750c9a8c3c650"
      },
      "cell_type": "code",
      "source": "!wget -O fastai/weights.tgz http://files.fast.ai/models/weights.tgz\n\n!tar xvfz fastai/weights.tgz -C fastai",
      "execution_count": 7,
      "outputs": [
        {
          "output_type": "stream",
          "text": "fastai/weights.tgz: No such file or directory\ntar (child): fastai/weights.tgz: Cannot open: No such file or directory\ntar (child): Error is not recoverable: exiting now\ntar: Child returned status 2\ntar: Error is not recoverable: exiting now\n",
          "name": "stdout"
        }
      ]
    },
    {
      "metadata": {
        "trusted": true,
        "_uuid": "d02612a57d9f9f056fa868decf568070f65688fa"
      },
      "cell_type": "code",
      "source": "!ls {PATH}",
      "execution_count": 8,
      "outputs": [
        {
          "output_type": "stream",
          "text": "sample_submission.csv  test  train  train.csv\r\n",
          "name": "stdout"
        }
      ]
    },
    {
      "metadata": {
        "trusted": true,
        "_uuid": "1d408d79c9455cf790196ab61d50f31feb2ac352"
      },
      "cell_type": "code",
      "source": "label_df = pd.read_csv(label_csv)",
      "execution_count": 9,
      "outputs": []
    },
    {
      "metadata": {
        "trusted": true,
        "_uuid": "50a0d3d7df903b2f2db7e253feef29cb7c263525"
      },
      "cell_type": "code",
      "source": "label_df.head()",
      "execution_count": 10,
      "outputs": [
        {
          "output_type": "execute_result",
          "execution_count": 10,
          "data": {
            "text/plain": "           Image         Id\n0  0000e88ab.jpg  w_f48451c\n1  0001f9222.jpg  w_c3d896a\n2  00029d126.jpg  w_20df2c5\n3  00050a15a.jpg  new_whale\n4  0005c1ef8.jpg  new_whale",
            "text/html": "<div>\n<style scoped>\n    .dataframe tbody tr th:only-of-type {\n        vertical-align: middle;\n    }\n\n    .dataframe tbody tr th {\n        vertical-align: top;\n    }\n\n    .dataframe thead th {\n        text-align: right;\n    }\n</style>\n<table border=\"1\" class=\"dataframe\">\n  <thead>\n    <tr style=\"text-align: right;\">\n      <th></th>\n      <th>Image</th>\n      <th>Id</th>\n    </tr>\n  </thead>\n  <tbody>\n    <tr>\n      <th>0</th>\n      <td>0000e88ab.jpg</td>\n      <td>w_f48451c</td>\n    </tr>\n    <tr>\n      <th>1</th>\n      <td>0001f9222.jpg</td>\n      <td>w_c3d896a</td>\n    </tr>\n    <tr>\n      <th>2</th>\n      <td>00029d126.jpg</td>\n      <td>w_20df2c5</td>\n    </tr>\n    <tr>\n      <th>3</th>\n      <td>00050a15a.jpg</td>\n      <td>new_whale</td>\n    </tr>\n    <tr>\n      <th>4</th>\n      <td>0005c1ef8.jpg</td>\n      <td>new_whale</td>\n    </tr>\n  </tbody>\n</table>\n</div>"
          },
          "metadata": {}
        }
      ]
    },
    {
      "metadata": {
        "trusted": true,
        "_uuid": "10f053ea4db83efa32987baea503198de190a728"
      },
      "cell_type": "code",
      "source": "label_df.pivot_table(index=\"Id\", aggfunc=len).sort_values('Image', ascending=False)",
      "execution_count": 12,
      "outputs": [
        {
          "output_type": "execute_result",
          "execution_count": 12,
          "data": {
            "text/plain": "           Image\nId              \nnew_whale   9664\nw_23a388d     73\nw_9b5109b     65\nw_9c506f6     62\nw_0369a5c     61\nw_700ebb4     57\nw_3de579a     54\nw_564a34b     51\nw_fd3e556     50\nw_88e4537     49\nw_2b069ba     48\nw_d405854     47\nw_789c969     45\nw_f0fe284     45\nw_5e8e218     40\nw_778e474     40\nw_343f088     40\nw_5a2634c     37\nw_a9304b9     37\nw_60ce6fc     37\nw_6822dbc     36\nw_af367c3     35\nw_1ca9ab1     34\nw_f765256     34\nw_17b0d3a     33\nw_d72771c     32\nw_8c25681     31\nw_08630fd     31\nw_6cda039     31\nw_51fc1fc     30\n...          ...\nw_ad01432      1\nw_491bdcb      1\nw_ad2bb89      1\nw_48cc590      1\nw_4982a49      1\nw_ad6df15      1\nw_ad7b758      1\nw_ad880b8      1\nw_48b6083      1\nw_48b1730      1\nw_adcaf2a      1\nw_497efb9      1\nw_49ae16f      1\nw_abd9d0b      1\nw_4a1b777      1\nw_abeab1e      1\nw_abee142      1\nw_4ac8e76      1\nw_4ab6b16      1\nw_4a8467f      1\nw_ac26398      1\nw_ac608c7      1\nw_49cd60d      1\nw_ac6aee2      1\nw_ac73445      1\nw_49ee8e0      1\nw_49e0d44      1\nw_49d1bcd      1\nw_49ce813      1\nw_ffe8693      1\n\n[5005 rows x 1 columns]",
            "text/html": "<div>\n<style scoped>\n    .dataframe tbody tr th:only-of-type {\n        vertical-align: middle;\n    }\n\n    .dataframe tbody tr th {\n        vertical-align: top;\n    }\n\n    .dataframe thead th {\n        text-align: right;\n    }\n</style>\n<table border=\"1\" class=\"dataframe\">\n  <thead>\n    <tr style=\"text-align: right;\">\n      <th></th>\n      <th>Image</th>\n    </tr>\n    <tr>\n      <th>Id</th>\n      <th></th>\n    </tr>\n  </thead>\n  <tbody>\n    <tr>\n      <th>new_whale</th>\n      <td>9664</td>\n    </tr>\n    <tr>\n      <th>w_23a388d</th>\n      <td>73</td>\n    </tr>\n    <tr>\n      <th>w_9b5109b</th>\n      <td>65</td>\n    </tr>\n    <tr>\n      <th>w_9c506f6</th>\n      <td>62</td>\n    </tr>\n    <tr>\n      <th>w_0369a5c</th>\n      <td>61</td>\n    </tr>\n    <tr>\n      <th>w_700ebb4</th>\n      <td>57</td>\n    </tr>\n    <tr>\n      <th>w_3de579a</th>\n      <td>54</td>\n    </tr>\n    <tr>\n      <th>w_564a34b</th>\n      <td>51</td>\n    </tr>\n    <tr>\n      <th>w_fd3e556</th>\n      <td>50</td>\n    </tr>\n    <tr>\n      <th>w_88e4537</th>\n      <td>49</td>\n    </tr>\n    <tr>\n      <th>w_2b069ba</th>\n      <td>48</td>\n    </tr>\n    <tr>\n      <th>w_d405854</th>\n      <td>47</td>\n    </tr>\n    <tr>\n      <th>w_789c969</th>\n      <td>45</td>\n    </tr>\n    <tr>\n      <th>w_f0fe284</th>\n      <td>45</td>\n    </tr>\n    <tr>\n      <th>w_5e8e218</th>\n      <td>40</td>\n    </tr>\n    <tr>\n      <th>w_778e474</th>\n      <td>40</td>\n    </tr>\n    <tr>\n      <th>w_343f088</th>\n      <td>40</td>\n    </tr>\n    <tr>\n      <th>w_5a2634c</th>\n      <td>37</td>\n    </tr>\n    <tr>\n      <th>w_a9304b9</th>\n      <td>37</td>\n    </tr>\n    <tr>\n      <th>w_60ce6fc</th>\n      <td>37</td>\n    </tr>\n    <tr>\n      <th>w_6822dbc</th>\n      <td>36</td>\n    </tr>\n    <tr>\n      <th>w_af367c3</th>\n      <td>35</td>\n    </tr>\n    <tr>\n      <th>w_1ca9ab1</th>\n      <td>34</td>\n    </tr>\n    <tr>\n      <th>w_f765256</th>\n      <td>34</td>\n    </tr>\n    <tr>\n      <th>w_17b0d3a</th>\n      <td>33</td>\n    </tr>\n    <tr>\n      <th>w_d72771c</th>\n      <td>32</td>\n    </tr>\n    <tr>\n      <th>w_8c25681</th>\n      <td>31</td>\n    </tr>\n    <tr>\n      <th>w_08630fd</th>\n      <td>31</td>\n    </tr>\n    <tr>\n      <th>w_6cda039</th>\n      <td>31</td>\n    </tr>\n    <tr>\n      <th>w_51fc1fc</th>\n      <td>30</td>\n    </tr>\n    <tr>\n      <th>...</th>\n      <td>...</td>\n    </tr>\n    <tr>\n      <th>w_ad01432</th>\n      <td>1</td>\n    </tr>\n    <tr>\n      <th>w_491bdcb</th>\n      <td>1</td>\n    </tr>\n    <tr>\n      <th>w_ad2bb89</th>\n      <td>1</td>\n    </tr>\n    <tr>\n      <th>w_48cc590</th>\n      <td>1</td>\n    </tr>\n    <tr>\n      <th>w_4982a49</th>\n      <td>1</td>\n    </tr>\n    <tr>\n      <th>w_ad6df15</th>\n      <td>1</td>\n    </tr>\n    <tr>\n      <th>w_ad7b758</th>\n      <td>1</td>\n    </tr>\n    <tr>\n      <th>w_ad880b8</th>\n      <td>1</td>\n    </tr>\n    <tr>\n      <th>w_48b6083</th>\n      <td>1</td>\n    </tr>\n    <tr>\n      <th>w_48b1730</th>\n      <td>1</td>\n    </tr>\n    <tr>\n      <th>w_adcaf2a</th>\n      <td>1</td>\n    </tr>\n    <tr>\n      <th>w_497efb9</th>\n      <td>1</td>\n    </tr>\n    <tr>\n      <th>w_49ae16f</th>\n      <td>1</td>\n    </tr>\n    <tr>\n      <th>w_abd9d0b</th>\n      <td>1</td>\n    </tr>\n    <tr>\n      <th>w_4a1b777</th>\n      <td>1</td>\n    </tr>\n    <tr>\n      <th>w_abeab1e</th>\n      <td>1</td>\n    </tr>\n    <tr>\n      <th>w_abee142</th>\n      <td>1</td>\n    </tr>\n    <tr>\n      <th>w_4ac8e76</th>\n      <td>1</td>\n    </tr>\n    <tr>\n      <th>w_4ab6b16</th>\n      <td>1</td>\n    </tr>\n    <tr>\n      <th>w_4a8467f</th>\n      <td>1</td>\n    </tr>\n    <tr>\n      <th>w_ac26398</th>\n      <td>1</td>\n    </tr>\n    <tr>\n      <th>w_ac608c7</th>\n      <td>1</td>\n    </tr>\n    <tr>\n      <th>w_49cd60d</th>\n      <td>1</td>\n    </tr>\n    <tr>\n      <th>w_ac6aee2</th>\n      <td>1</td>\n    </tr>\n    <tr>\n      <th>w_ac73445</th>\n      <td>1</td>\n    </tr>\n    <tr>\n      <th>w_49ee8e0</th>\n      <td>1</td>\n    </tr>\n    <tr>\n      <th>w_49e0d44</th>\n      <td>1</td>\n    </tr>\n    <tr>\n      <th>w_49d1bcd</th>\n      <td>1</td>\n    </tr>\n    <tr>\n      <th>w_49ce813</th>\n      <td>1</td>\n    </tr>\n    <tr>\n      <th>w_ffe8693</th>\n      <td>1</td>\n    </tr>\n  </tbody>\n</table>\n<p>5005 rows × 1 columns</p>\n</div>"
          },
          "metadata": {}
        }
      ]
    },
    {
      "metadata": {
        "trusted": true,
        "_uuid": "d4775e0858d2ef2dd9c32e0eecdf48cf7fad4789"
      },
      "cell_type": "code",
      "source": "tfms = tfms_from_model(arch, sz, aug_tfms=transforms_side_on, max_zoom=1.1)\ndata = ImageClassifierData.from_csv(PATH, 'train', f'{PATH}train.csv', test_name='test', # we need to specify where the test set is if you want to submit to Kaggle competitions\n                                   val_idxs=val_idxs, tfms=tfms, bs=bs)",
      "execution_count": 15,
      "outputs": []
    },
    {
      "metadata": {
        "trusted": true,
        "_uuid": "8677b03b9c25b9bc65b8fe93cfbd0d9b6506f6df"
      },
      "cell_type": "code",
      "source": "size_d = {k: PIL.Image.open(PATH + k).size for k in data.trn_ds.fnames}\n\nrow_sz, col_sz = list(zip(*size_d.values()))\n\nrow_sz = np.array(row_sz); col_sz = np.array(col_sz)\n\nrow_sz[:5]\n\nplt.hist(row_sz);",
      "execution_count": 16,
      "outputs": [
        {
          "output_type": "display_data",
          "data": {
            "text/plain": "<Figure size 432x288 with 1 Axes>",
            "image/png": "[encoded data removed]"
          },
          "metadata": {
            "needs_background": "light"
          }
        }
      ]
    },
    {
      "metadata": {
        "trusted": true,
        "_uuid": "4c9abd031fcfc261b22f1f3a2d6fc4de1363a87e"
      },
      "cell_type": "code",
      "source": "def get_data(sz, bs): # sz: image size, bs: batch size\n    tfms = tfms_from_model(arch, sz, aug_tfms=transforms_side_on, max_zoom=1.1)\n    data = ImageClassifierData.from_csv(PATH, 'train', f'{PATH}labels.csv', test_name='test',\n                                       val_idxs=val_idxs, suffix='.jpg', tfms=tfms, bs=bs)\n    \n    # http://forums.fast.ai/t/how-to-train-on-the-full-dataset-using-imageclassifierdata-from-csv/7761/13\n    # http://forums.fast.ai/t/how-to-train-on-the-full-dataset-using-imageclassifierdata-from-csv/7761/37\n    return data if sz > 300 else data.resize(340, 'tmp') # Reading the jpgs and resizing is slow for big images, so resizing them all to 340 first saves time\n",
      "execution_count": null,
      "outputs": []
    },
    {
      "metadata": {
        "trusted": true,
        "_uuid": "c5aa916392fdddeb755cccc9c1b4ef13126b6e14"
      },
      "cell_type": "code",
      "source": "import pathlib\ndata.path = pathlib.Path('.')",
      "execution_count": 18,
      "outputs": []
    },
    {
      "metadata": {
        "trusted": true,
        "_uuid": "f2de2c1f067fa2336ee9d3376d39140f09aec6ab"
      },
      "cell_type": "code",
      "source": "learn = ConvLearner.pretrained(arch, data, precompute=True)",
      "execution_count": 21,
      "outputs": [
        {
          "output_type": "stream",
          "text": "Downloading: \"https://download.pytorch.org/models/resnet101-5d3b4d8f.pth\" to /tmp/.torch/models/resnet101-5d3b4d8f.pth\n100%|██████████| 178728960/178728960 [00:07<00:00, 23158226.89it/s]\n",
          "name": "stderr"
        },
        {
          "output_type": "stream",
          "text": "\r  0%|          | 0/350 [00:00<?, ?it/s]",
          "name": "stdout"
        },
        {
          "output_type": "stream",
          "text": "/opt/conda/lib/python3.6/site-packages/fastai/initializers.py:6: UserWarning: nn.init.kaiming_normal is now deprecated in favor of nn.init.kaiming_normal_.\n  if hasattr(m, 'weight'): init_fn(m.weight)\n",
          "name": "stderr"
        },
        {
          "output_type": "stream",
          "text": "100%|██████████| 350/350 [06:29<00:00,  1.48it/s]\n100%|██████████| 88/88 [01:41<00:00,  1.29it/s]\n100%|██████████| 138/138 [02:35<00:00,  1.77it/s]\n",
          "name": "stdout"
        }
      ]
    },
    {
      "metadata": {
        "trusted": true,
        "_uuid": "7991afe8462767a0b956aa1eb7726c873acfc790"
      },
      "cell_type": "code",
      "source": "learn.fit(1e-2, 5)",
      "execution_count": 22,
      "outputs": [
        {
          "output_type": "display_data",
          "data": {
            "text/plain": "HBox(children=(IntProgress(value=0, description='Epoch', max=5), HTML(value='')))",
            "application/vnd.jupyter.widget-view+json": {
              "version_major": 2,
              "version_minor": 0,
              "model_id": "98442cddd7624945abd2bee7ed3e7afb"
            }
          },
          "metadata": {}
        },
        {
          "output_type": "stream",
          "text": "epoch      trn_loss   val_loss   accuracy                   \n    0      6.025566   5.639935   0.384858  \n    1      5.384762   5.407149   0.388604                   \n    2      5.081916   5.277784   0.389984                   \n    3      4.819561   5.15253    0.394716                   \n    4      4.62229    5.060253   0.399054                   \n\n",
          "name": "stdout"
        },
        {
          "output_type": "execute_result",
          "execution_count": 22,
          "data": {
            "text/plain": "[5.060253240426632, 0.3990536235472663]"
          },
          "metadata": {}
        }
      ]
    },
    {
      "metadata": {
        "trusted": true,
        "_uuid": "603681a7d26a7de2e8bec347b0a9145a957f49c6"
      },
      "cell_type": "code",
      "source": "from sklearn import metrics",
      "execution_count": 23,
      "outputs": []
    },
    {
      "metadata": {
        "trusted": true,
        "_uuid": "80d6db4edfc508c55ab92f4e4a414fc4c4345f69"
      },
      "cell_type": "code",
      "source": "learn = ConvLearner.pretrained(arch, data, precompute=True, ps=0.5)",
      "execution_count": 24,
      "outputs": []
    },
    {
      "metadata": {
        "trusted": true,
        "_uuid": "a21f08c31310e30cd263338a3d261362855fa5f3"
      },
      "cell_type": "code",
      "source": "learn.fit(1e-2, 2)",
      "execution_count": 25,
      "outputs": [
        {
          "output_type": "display_data",
          "data": {
            "text/plain": "HBox(children=(IntProgress(value=0, description='Epoch', max=2), HTML(value='')))",
            "application/vnd.jupyter.widget-view+json": {
              "version_major": 2,
              "version_minor": 0,
              "model_id": "cbe91abec2b4405c9c2d5713b8983f05"
            }
          },
          "metadata": {}
        },
        {
          "output_type": "stream",
          "text": "epoch      trn_loss   val_loss   accuracy                   \n    0      5.971084   5.638065   0.381901  \n    1      5.472604   5.432956   0.38683                    \n\n",
          "name": "stdout"
        },
        {
          "output_type": "execute_result",
          "execution_count": 25,
          "data": {
            "text/plain": "[5.43295613485932, 0.38682964711511736]"
          },
          "metadata": {}
        }
      ]
    },
    {
      "metadata": {
        "trusted": true,
        "_uuid": "1c1925173f0bd9900196922fde0a85b1d9a6caca"
      },
      "cell_type": "code",
      "source": "learn.precompute = False",
      "execution_count": 26,
      "outputs": []
    },
    {
      "metadata": {
        "trusted": true,
        "_uuid": "074047f108bc740b4b2b447be9f073e8b6e55a41"
      },
      "cell_type": "code",
      "source": "learn.fit(1e-2, 5, cycle_len=1)",
      "execution_count": 27,
      "outputs": [
        {
          "output_type": "display_data",
          "data": {
            "text/plain": "HBox(children=(IntProgress(value=0, description='Epoch', max=5), HTML(value='')))",
            "application/vnd.jupyter.widget-view+json": {
              "version_major": 2,
              "version_minor": 0,
              "model_id": "d0fd779f9e7c4a9798521ec02160e060"
            }
          },
          "metadata": {}
        },
        {
          "output_type": "stream",
          "text": "epoch      trn_loss   val_loss   accuracy                   \n    0      5.412887   5.368191   0.388801  \n    1      5.377327   5.311944   0.389393                   \n    2      5.204738   5.261622   0.390773                   \n    3      5.152983   5.207377   0.390181                   \n    4      5.053626   5.167789   0.393336                   \n\n",
          "name": "stdout"
        },
        {
          "output_type": "execute_result",
          "execution_count": 27,
          "data": {
            "text/plain": "[5.16778946787777, 0.3933359590720397]"
          },
          "metadata": {}
        }
      ]
    },
    {
      "metadata": {
        "trusted": true,
        "_uuid": "fec5a2d329abb23bb540a224004761239c12f81a"
      },
      "cell_type": "code",
      "source": "learn.save('224_pre')\n\nlearn.load('224_pre')",
      "execution_count": 28,
      "outputs": []
    },
    {
      "metadata": {
        "trusted": true,
        "_uuid": "981a7678aa79ac9aa0c765bb3350a7014917c880"
      },
      "cell_type": "code",
      "source": "tfms = tfms_from_model(arch, 299, aug_tfms=transforms_side_on, max_zoom=1.1)\ndata = ImageClassifierData.from_csv(PATH, 'train', f'{PATH}train.csv', test_name='test', # we need to specify where the test set is if you want to submit to Kaggle competitions\n                                   val_idxs=val_idxs, tfms=tfms, bs=32)",
      "execution_count": 29,
      "outputs": []
    },
    {
      "metadata": {
        "trusted": true,
        "_uuid": "c1ad9d683dfbda6b38315705d8cdb42d8240920f"
      },
      "cell_type": "code",
      "source": "learn.freeze()",
      "execution_count": 30,
      "outputs": []
    },
    {
      "metadata": {
        "trusted": true,
        "_uuid": "c1b9b36d6853a2875dd7d47cfe4d60821ad6288c"
      },
      "cell_type": "code",
      "source": "learn.fit(1e-2, 5, cycle_len=1)",
      "execution_count": null,
      "outputs": [
        {
          "output_type": "display_data",
          "data": {
            "text/plain": "HBox(children=(IntProgress(value=0, description='Epoch', max=5), HTML(value='')))",
            "application/vnd.jupyter.widget-view+json": {
              "version_major": 2,
              "version_minor": 0,
              "model_id": "964c431ee3db44d5871ad1649dfa08ba"
            }
          },
          "metadata": {}
        },
        {
          "output_type": "stream",
          "text": "\r  0%|          | 0/350 [00:00<?, ?it/s]",
          "name": "stdout"
        }
      ]
    },
    {
      "metadata": {
        "trusted": true,
        "_uuid": "b9a2777af912eb51e79c985c31ce4ee8997e710c"
      },
      "cell_type": "code",
      "source": "",
      "execution_count": null,
      "outputs": []
    }
  ],
  "metadata": {
    "kernelspec": {
      "display_name": "Python 3",
      "language": "python",
      "name": "python3"
    },
    "language_info": {
      "name": "python",
      "version": "3.6.6",
      "mimetype": "text/x-python",
      "codemirror_mode": {
        "name": "ipython",
        "version": 3
      },
      "pygments_lexer": "ipython3",
      "nbconvert_exporter": "python",
      "file_extension": ".py"
    }
  },
  "nbformat": 4,
  "nbformat_minor": 1
}