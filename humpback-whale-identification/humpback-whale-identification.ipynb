{
  "cells": [
    {
      "metadata": {
        "trusted": true,
        "_uuid": "77def3f8919ca9be144c36c667bb81fcdd6e3a71"
      },
      "cell_type": "code",
      "source": "%reload_ext autoreload\n%autoreload 2\n%matplotlib inline\n\nfrom fastai.imports import *\nfrom fastai.torch_imports import *\nfrom fastai.transforms import *\nfrom fastai.conv_learner import *\nfrom fastai.model import *\nfrom fastai.dataset import *\nfrom fastai.sgdr import *\nfrom fastai.plots import *\n\ntorch.cuda.set_device(0)",
      "execution_count": 1,
      "outputs": [
        {
          "output_type": "stream",
          "text": "/opt/conda/lib/python3.6/site-packages/sklearn/ensemble/weight_boosting.py:29: DeprecationWarning: numpy.core.umath_tests is an internal NumPy module and should not be imported. It will be removed in a future NumPy release.\n  from numpy.core.umath_tests import inner1d\n",
          "name": "stderr"
        }
      ]
    },
    {
      "metadata": {
        "trusted": true,
        "_uuid": "3da46ced6d3c4262bc403117b2e5bc998966fabf"
      },
      "cell_type": "code",
      "source": "PATH = \"../input/\"\nsz = 224\narch = resnet101\nbs = 58",
      "execution_count": 2,
      "outputs": []
    },
    {
      "metadata": {
        "trusted": true,
        "_uuid": "878f1029c8c40e1b721c3b02cb96c866dbfdd1df"
      },
      "cell_type": "code",
      "source": "label_csv = f'{PATH}train.csv'\nn = len(list(open(label_csv))) - 1 # header is not counted (-1)\nval_idxs = get_cv_idxs(n) # random 20% data for validation set",
      "execution_count": 3,
      "outputs": []
    },
    {
      "metadata": {
        "trusted": true,
        "_uuid": "e12dd0bd99f6b1f35b7efa8a9aa704d1d10ecd12"
      },
      "cell_type": "code",
      "source": "label_df = pd.read_csv(label_csv)",
      "execution_count": 4,
      "outputs": []
    },
    {
      "metadata": {
        "trusted": true,
        "_uuid": "50a0d3d7df903b2f2db7e253feef29cb7c263525"
      },
      "cell_type": "code",
      "source": "label_df.head()",
      "execution_count": 5,
      "outputs": [
        {
          "output_type": "execute_result",
          "execution_count": 5,
          "data": {
            "text/plain": "           Image         Id\n0  0000e88ab.jpg  w_f48451c\n1  0001f9222.jpg  w_c3d896a\n2  00029d126.jpg  w_20df2c5\n3  00050a15a.jpg  new_whale\n4  0005c1ef8.jpg  new_whale",
            "text/html": "<div>\n<style scoped>\n    .dataframe tbody tr th:only-of-type {\n        vertical-align: middle;\n    }\n\n    .dataframe tbody tr th {\n        vertical-align: top;\n    }\n\n    .dataframe thead th {\n        text-align: right;\n    }\n</style>\n<table border=\"1\" class=\"dataframe\">\n  <thead>\n    <tr style=\"text-align: right;\">\n      <th></th>\n      <th>Image</th>\n      <th>Id</th>\n    </tr>\n  </thead>\n  <tbody>\n    <tr>\n      <th>0</th>\n      <td>0000e88ab.jpg</td>\n      <td>w_f48451c</td>\n    </tr>\n    <tr>\n      <th>1</th>\n      <td>0001f9222.jpg</td>\n      <td>w_c3d896a</td>\n    </tr>\n    <tr>\n      <th>2</th>\n      <td>00029d126.jpg</td>\n      <td>w_20df2c5</td>\n    </tr>\n    <tr>\n      <th>3</th>\n      <td>00050a15a.jpg</td>\n      <td>new_whale</td>\n    </tr>\n    <tr>\n      <th>4</th>\n      <td>0005c1ef8.jpg</td>\n      <td>new_whale</td>\n    </tr>\n  </tbody>\n</table>\n</div>"
          },
          "metadata": {}
        }
      ]
    },
    {
      "metadata": {
        "trusted": true,
        "_uuid": "540e074b7cd3671dcb189e087e6e64ff787679b0"
      },
      "cell_type": "code",
      "source": "tfms = tfms_from_model(arch, sz, aug_tfms=transforms_side_on, max_zoom=1.1)\ndata = ImageClassifierData.from_csv(PATH, 'train', f'{PATH}train.csv', test_name='test', # we need to specify where the test set is if you want to submit to Kaggle competitions\n                                   val_idxs=val_idxs, tfms=tfms, bs=bs)",
      "execution_count": 6,
      "outputs": []
    },
    {
      "metadata": {
        "trusted": true,
        "_uuid": "c5aa916392fdddeb755cccc9c1b4ef13126b6e14"
      },
      "cell_type": "code",
      "source": "import pathlib\ndata.path = pathlib.Path('.')",
      "execution_count": 7,
      "outputs": []
    },
    {
      "metadata": {
        "trusted": true,
        "_uuid": "f02399fe03892c94b98bb2369d48fc67297f32bc"
      },
      "cell_type": "code",
      "source": "learn = ConvLearner.pretrained(arch, data, precompute=True)",
      "execution_count": 8,
      "outputs": [
        {
          "output_type": "stream",
          "text": "Downloading: \"https://download.pytorch.org/models/resnet101-5d3b4d8f.pth\" to /tmp/.torch/models/resnet101-5d3b4d8f.pth\n100%|██████████| 178728960/178728960 [00:07<00:00, 22711535.82it/s]\n",
          "name": "stderr"
        },
        {
          "output_type": "stream",
          "text": "\r  0%|          | 0/350 [00:00<?, ?it/s]",
          "name": "stdout"
        },
        {
          "output_type": "stream",
          "text": "/opt/conda/lib/python3.6/site-packages/fastai/initializers.py:6: UserWarning: nn.init.kaiming_normal is now deprecated in favor of nn.init.kaiming_normal_.\n  if hasattr(m, 'weight'): init_fn(m.weight)\n",
          "name": "stderr"
        },
        {
          "output_type": "stream",
          "text": "100%|██████████| 350/350 [05:49<00:00,  1.53it/s]\n100%|██████████| 88/88 [01:29<00:00,  1.37it/s]\n100%|██████████| 138/138 [02:20<00:00,  1.80it/s]\n",
          "name": "stdout"
        }
      ]
    },
    {
      "metadata": {
        "trusted": true,
        "_uuid": "7991afe8462767a0b956aa1eb7726c873acfc790"
      },
      "cell_type": "code",
      "source": "learn.fit(0.03, 5)",
      "execution_count": 9,
      "outputs": [
        {
          "output_type": "display_data",
          "data": {
            "text/plain": "HBox(children=(IntProgress(value=0, description='Epoch', max=5), HTML(value='')))",
            "application/vnd.jupyter.widget-view+json": {
              "version_major": 2,
              "version_minor": 0,
              "model_id": "1e1316d0e47340149b54cff832ebdff0"
            }
          },
          "metadata": {}
        },
        {
          "output_type": "stream",
          "text": "epoch      trn_loss   val_loss   accuracy                   \n    0      5.662462   5.432014   0.385252  \n    1      5.148924   5.189933   0.390181                   \n    2      4.695049   5.034865   0.396885                   \n    3      4.345202   4.951031   0.401025                   \n    4      3.951834   4.958438   0.40418                    \n\n",
          "name": "stdout"
        },
        {
          "output_type": "execute_result",
          "execution_count": 9,
          "data": {
            "text/plain": "[4.958438167812696, 0.4041798075584677]"
          },
          "metadata": {}
        }
      ]
    },
    {
      "metadata": {
        "trusted": true,
        "_uuid": "a21f08c31310e30cd263338a3d261362855fa5f3"
      },
      "cell_type": "code",
      "source": "learn.fit(0.02, 5)",
      "execution_count": 10,
      "outputs": [
        {
          "output_type": "display_data",
          "data": {
            "text/plain": "HBox(children=(IntProgress(value=0, description='Epoch', max=5), HTML(value='')))",
            "application/vnd.jupyter.widget-view+json": {
              "version_major": 2,
              "version_minor": 0,
              "model_id": "121d7e7249274f88931656e1da8feb87"
            }
          },
          "metadata": {}
        },
        {
          "output_type": "stream",
          "text": "epoch      trn_loss   val_loss   accuracy                   \n    0      3.327237   4.884673   0.410095  \n    1      2.974542   4.890704   0.412658                   \n    2      2.628994   5.063364   0.41108                    \n    3      2.344879   5.062496   0.415418                   \n    4      2.053452   5.108383   0.411869                   \n\n",
          "name": "stdout"
        },
        {
          "output_type": "execute_result",
          "execution_count": 10,
          "data": {
            "text/plain": "[5.1083832959459405, 0.41186908142470785]"
          },
          "metadata": {}
        }
      ]
    },
    {
      "metadata": {
        "trusted": true,
        "_uuid": "1c1925173f0bd9900196922fde0a85b1d9a6caca"
      },
      "cell_type": "code",
      "source": "learn.precompute = False",
      "execution_count": 11,
      "outputs": []
    },
    {
      "metadata": {
        "trusted": true,
        "_uuid": "074047f108bc740b4b2b447be9f073e8b6e55a41"
      },
      "cell_type": "code",
      "source": "learn.fit(0.02, 5, cycle_len=1)",
      "execution_count": 12,
      "outputs": [
        {
          "output_type": "display_data",
          "data": {
            "text/plain": "HBox(children=(IntProgress(value=0, description='Epoch', max=5), HTML(value='')))",
            "application/vnd.jupyter.widget-view+json": {
              "version_major": 2,
              "version_minor": 0,
              "model_id": "95bca7ccb04641b3b001946bc9eb6bf6"
            }
          },
          "metadata": {}
        },
        {
          "output_type": "stream",
          "text": "epoch      trn_loss   val_loss   accuracy                   \n    0      3.421908   5.024417   0.419361  \n    1      3.326198   5.004565   0.419164                   \n    2      3.100337   4.948603   0.422516                   \n    3      3.038393   4.926874   0.42291                    \n    4      2.964419   4.935752   0.421333                   \n\n",
          "name": "stdout"
        },
        {
          "output_type": "execute_result",
          "execution_count": 12,
          "data": {
            "text/plain": "[4.93575198229179, 0.42133280491509273]"
          },
          "metadata": {}
        }
      ]
    },
    {
      "metadata": {
        "trusted": true,
        "_uuid": "bc6994f126a9e4f4b32fc8ba853ed76104739088"
      },
      "cell_type": "code",
      "source": "learn.unfreeze()",
      "execution_count": 13,
      "outputs": []
    },
    {
      "metadata": {
        "trusted": true,
        "_uuid": "81d402f112d434aadaa42e0715f6285827794cea"
      },
      "cell_type": "code",
      "source": "lrf=learn.lr_find()",
      "execution_count": null,
      "outputs": []
    },
    {
      "metadata": {
        "trusted": true,
        "_uuid": "b3734fd65754082f5c171100303f6ca269fa055d"
      },
      "cell_type": "code",
      "source": "learn.sched.plot()",
      "execution_count": null,
      "outputs": []
    },
    {
      "metadata": {
        "trusted": true,
        "_uuid": "3c0f305d7404933b2dc02955aa3db2e894482a21"
      },
      "cell_type": "code",
      "source": "lr=1e-4",
      "execution_count": null,
      "outputs": []
    },
    {
      "metadata": {
        "trusted": true,
        "_uuid": "3942c4f5bd8b30cea4e382bfa54ab9822e8997c9"
      },
      "cell_type": "code",
      "source": "lrs=np.array([1e-5,1e-4,1e-3])",
      "execution_count": 14,
      "outputs": []
    },
    {
      "metadata": {
        "trusted": true,
        "_uuid": "c4785469c3e17c7c990d058e050ba05f2ae17027"
      },
      "cell_type": "code",
      "source": "learn.fit(lrs, 5, cycle_len=1)",
      "execution_count": null,
      "outputs": [
        {
          "output_type": "display_data",
          "data": {
            "text/plain": "HBox(children=(IntProgress(value=0, description='Epoch', max=5), HTML(value='')))",
            "application/vnd.jupyter.widget-view+json": {
              "version_major": 2,
              "version_minor": 0,
              "model_id": "04b848c20a5c4b7e925ec2e704f2cd0f"
            }
          },
          "metadata": {}
        },
        {
          "output_type": "stream",
          "text": "\r  0%|          | 0/350 [00:00<?, ?it/s]",
          "name": "stdout"
        }
      ]
    },
    {
      "metadata": {
        "trusted": true,
        "_uuid": "81a05dea74ace4dafe05ecb64cd16e3043057674"
      },
      "cell_type": "code",
      "source": "learn.fit(lrs, 5, cycle_len=1, cycle_mult=2)",
      "execution_count": null,
      "outputs": []
    },
    {
      "metadata": {
        "trusted": true,
        "_uuid": "6560a28bc1a051fc6b1d7b9e2406cb93ef1b7a65"
      },
      "cell_type": "code",
      "source": "learn.sched.plot_loss()",
      "execution_count": null,
      "outputs": []
    },
    {
      "metadata": {
        "trusted": true,
        "_uuid": "5737638d604fd5fc0e78d1931af9b0ca0938b12a"
      },
      "cell_type": "code",
      "source": "log_preds,y = learn.TTA()\nprobs = np.mean(np.exp(log_preds),0)\n\naccuracy_np(probs,y)",
      "execution_count": null,
      "outputs": []
    },
    {
      "metadata": {
        "trusted": true,
        "_uuid": "e425852153f59b3a621541bec3d8205ecfb91f26"
      },
      "cell_type": "code",
      "source": "lrs=np.array([lr/9,lr/3,lr])\nlearn.fit(lrs, 5, cycle_len=1)",
      "execution_count": null,
      "outputs": []
    },
    {
      "metadata": {
        "trusted": true,
        "_uuid": "efeb02de0c09215188dc3314e3817ae0b7270edd"
      },
      "cell_type": "code",
      "source": "learn.set_data(data1)\nlearn.freeze()\nlearn.fit(lr, 3, cycle_len=1, cycle_mult=2)",
      "execution_count": null,
      "outputs": []
    },
    {
      "metadata": {
        "trusted": true,
        "_uuid": "e8142e8694f5e0051891c132b4e80c6a3e6ffb61"
      },
      "cell_type": "code",
      "source": "learn.unfreeze()\nlearn.fit(lr, 3, cycle_len=1, cycle_mult=2)",
      "execution_count": null,
      "outputs": []
    },
    {
      "metadata": {
        "trusted": true,
        "_uuid": "a18d9777abd2ef7fac86270e065f82dac66fc20b"
      },
      "cell_type": "code",
      "source": "learn.save('224_pre')\n\nlearn.load('224_pre')",
      "execution_count": null,
      "outputs": []
    }
  ],
  "metadata": {
    "kernelspec": {
      "display_name": "Python 3",
      "language": "python",
      "name": "python3"
    },
    "language_info": {
      "name": "python",
      "version": "3.6.6",
      "mimetype": "text/x-python",
      "codemirror_mode": {
        "name": "ipython",
        "version": 3
      },
      "pygments_lexer": "ipython3",
      "nbconvert_exporter": "python",
      "file_extension": ".py"
    }
  },
  "nbformat": 4,
  "nbformat_minor": 1
}